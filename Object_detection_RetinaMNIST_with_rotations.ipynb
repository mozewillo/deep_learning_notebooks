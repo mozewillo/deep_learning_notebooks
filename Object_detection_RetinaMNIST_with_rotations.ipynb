{
  "cells": [
    {
      "cell_type": "markdown",
      "metadata": {
        "id": "6VBJpAMzglRo"
      },
      "source": [
        "# RetinaMNIST with rotations\n",
        "\n",
        "In this exercise your goal will be to solve an object detection training and prediction task using the anchor-based approach.\n",
        "**As a part of your solution you should provide a report summarizing your findings and results of the conducted experiments.**\n",
        "\n",
        "##TLDR; overview\n",
        "\n",
        "In this task one should:\n",
        "- determine the size of the feasible anchors for the object detection task posed in this Assignment,\n",
        "- build an object detection model using the variant of `RetinaNet`,\n",
        "- prepare a matching suite which will match predicted anchors with ground truth bounding boxes,\n",
        "- train an object detection model using a variant of `RetinaLoss`.\n",
        "\n",
        "Hints and comments:\n",
        "\n",
        "- Model architecture and loss are heavily inspired by [RetinaNet](https://arxiv.org/pdf/1708.02002.pdf) paper,\n",
        "- you can freely subclass and extend the interface of classes in this exercise,\n",
        "- be sure that you understand the concept of an anchor for object detection, covered during the lecture about Object Detection. There are many great tutorials and articles about it (e.g. [this](https://towardsdatascience.com/anchor-boxes-the-key-to-quality-object-detection-ddf9d612d4f9) one, note however that we are not implementing ignoring boxes for simplicity).\n",
        "\n",
        "### Data description\n",
        "\n",
        "In this task we will paste bounding boxes with digits **from 1 to 5** randomly selected from `MNIST` dataset on a canvas of size `(128, 128)` and **randomly flipped by 90 degrees**. We assume that:\n",
        "\n",
        "- the two boxes from a canvas should have no more than `0.1` of `iou` overlap,\n",
        "- the digits are fully contained in canvas,\n",
        "- boxes are modeled using `MnistBox` class,\n",
        "- canvas is modeled using `MnistCanvas` class.\n",
        "\n",
        "Let us have a look at definition of these classes:"
      ]
    },
    {
      "cell_type": "markdown",
      "metadata": {
        "id": "Zgs-MCkrTeBE"
      },
      "source": [
        "### Mnist Canvas"
      ]
    },
    {
      "cell_type": "code",
      "execution_count": null,
      "metadata": {
        "id": "L1rAdIiRq2G8"
      },
      "outputs": [],
      "source": [
        "from typing import List\n",
        "from typing import Optional\n",
        "from typing import Tuple\n",
        "\n",
        "import matplotlib.pyplot as plt\n",
        "import matplotlib.patches as patches\n",
        "import numpy as np\n",
        "import torch\n",
        "\n",
        "\n",
        "DEVICE = torch.device('cuda' if torch.cuda.is_available() else 'cpu')\n",
        "\n",
        "class MnistBox:\n",
        "\n",
        "    def __init__(\n",
        "        self,\n",
        "        x_min: int,\n",
        "        y_min: int,\n",
        "        x_max: int,\n",
        "        y_max: int,\n",
        "        class_nb: Optional[int] = None,\n",
        "        rotated: Optional[bool] = None,\n",
        "    ):\n",
        "        self.x_min = x_min\n",
        "        self.x_max = x_max\n",
        "        self.y_min = y_min\n",
        "        self.y_max = y_max\n",
        "        self.class_nb = class_nb\n",
        "        self.rotated = rotated\n",
        "    \n",
        "    @property\n",
        "    def x_diff(self):\n",
        "        return self.x_max - self.x_min\n",
        "    \n",
        "    @property\n",
        "    def y_diff(self):\n",
        "        return self.y_max - self.y_min\n",
        "\n",
        "    def __repr__(self):\n",
        "        return f'Mnist Box: x_min = {self.x_min},' +\\\n",
        "               f' x_max = {self.x_max}, y_min = {self.y_min},' +\\\n",
        "               f' y_max = {self.y_max}. Class = {self.class_nb}.' +\\\n",
        "               f' Rotated = {self.rotated}.'\n",
        "\n",
        "    def plot_on_ax(self, ax, color: Optional[str] = 'r'):\n",
        "        ax.add_patch(\n",
        "            patches.Rectangle(\n",
        "                (self.y_min, self.x_min),\n",
        "                 self.y_diff,\n",
        "                 self.x_diff,\n",
        "                 linewidth=1,\n",
        "                 edgecolor=color,\n",
        "                 facecolor='none',\n",
        "            )\n",
        "        )\n",
        "        ax.text(\n",
        "            self.y_min,\n",
        "            self.x_min,\n",
        "            f'{self.class_nb}' if not self.rotated else f'{self.class_nb}*',\n",
        "            bbox={\"facecolor\": color, \"alpha\": 0.4},\n",
        "            clip_box=ax.clipbox,\n",
        "            clip_on=True,\n",
        "        )\n",
        "\n",
        "    @property\n",
        "    def area(self):\n",
        "        return max((self.x_max - self.x_min), 0) * max((self.y_max - self.y_min), 0)\n",
        "\n",
        "    def iou_with(self, other_box: \"MnistBox\"):\n",
        "        aux_box = MnistBox(\n",
        "            x_min=max(self.x_min, other_box.x_min),\n",
        "            x_max=min(self.x_max, other_box.x_max),\n",
        "            y_min=max(self.y_min, other_box.y_min),\n",
        "            y_max=min(self.y_max, other_box.y_max),\n",
        "        ) \n",
        "        return aux_box.area / (self.area + other_box.area - aux_box.area)\n",
        "\n",
        "\n",
        "class MnistCanvas:\n",
        "\n",
        "    def __init__(\n",
        "        self,\n",
        "        image: np.ndarray,\n",
        "        boxes: List[MnistBox],\n",
        "    ):\n",
        "        self.image = image\n",
        "        self.boxes = boxes\n",
        "\n",
        "    def add_digit(\n",
        "        self,\n",
        "        digit: np.ndarray,\n",
        "        class_nb: int,\n",
        "        x_min: int,\n",
        "        y_min: int,\n",
        "        rotated=None,\n",
        "        iou_threshold=0.1,\n",
        "    ) -> bool:\n",
        "        \"\"\"\n",
        "        Add a digit to an image if it does not overlap with existing boxes\n",
        "        above iou_threshold.\n",
        "        \"\"\"\n",
        "        image_x, image_y = digit.shape\n",
        "        if x_min >= self.image.shape[0] and y_min >= self.image.shape[1]:\n",
        "            raise ValueError('Wrong initial corner box')\n",
        "        new_box_x_min = x_min\n",
        "        new_box_y_min = y_min\n",
        "        new_box_x_max = min(x_min + image_x, self.image.shape[0])\n",
        "        new_box_y_max = min(y_min + image_y, self.image.shape[1])\n",
        "        new_box = MnistBox(\n",
        "            x_min=new_box_x_min,\n",
        "            x_max=new_box_x_max,\n",
        "            y_min=new_box_y_min,\n",
        "            y_max=new_box_y_max,\n",
        "            class_nb=class_nb,\n",
        "            rotated=rotated,\n",
        "        )\n",
        "        old_background = self.image[\n",
        "            new_box_x_min:new_box_x_max,\n",
        "            new_box_y_min:new_box_y_max\n",
        "        ]\n",
        "        for box in self.boxes:\n",
        "            if new_box.iou_with(box) > iou_threshold:\n",
        "                return False\n",
        "        self.image[\n",
        "            new_box_x_min:new_box_x_max,\n",
        "            new_box_y_min:new_box_y_max\n",
        "        ] = np.maximum(old_background, digit)\n",
        "        self.boxes.append(\n",
        "            new_box\n",
        "        ) \n",
        "        return True\n",
        "        \n",
        "    def get_torch_tensor(self) -> torch.Tensor:\n",
        "        np_image = self.image.astype('float32')\n",
        "        np_image = np_image.reshape(\n",
        "            (1, 1, self.image.shape[0], self.image.shape[1])\n",
        "        )\n",
        "        return torch.from_numpy(np_image).to(DEVICE)\n",
        "\n",
        "    @classmethod\n",
        "    def get_empty_of_size(cls, size: Tuple[int, int]):\n",
        "        return cls(\n",
        "            image=np.zeros(size),\n",
        "            boxes=[],\n",
        "        )\n",
        "\n",
        "    def plot(self, boxes: Optional[List[MnistBox]] = None):\n",
        "        fig, ax = plt.subplots()\n",
        "        ax.imshow(self.image)\n",
        "        boxes = boxes or self.boxes\n",
        "        for box in boxes:\n",
        "            box.plot_on_ax(ax)\n",
        "        plt.show()\n",
        "\n",
        "        "
      ]
    },
    {
      "cell_type": "markdown",
      "metadata": {
        "id": "NWMxgsgFtlze"
      },
      "source": [
        "Each canvas has 3-6 boxes with randomly selected digits. The digits for training data are from first 10K examples from `MNIST` train data. The digits for test data are selected from first 1K examples from `MNIST` test data. The Dataset is generated using the following functions:"
      ]
    },
    {
      "cell_type": "code",
      "execution_count": null,
      "metadata": {
        "id": "HezSZXw4z-cx"
      },
      "outputs": [],
      "source": [
        "from keras.datasets import mnist\n",
        "import numpy as np\n",
        "\n",
        "\n",
        "mnist_data = mnist.load_data()\n",
        "(mnist_x_train, mnist_y_train), (mnist_x_test, mnist_y_test) = mnist_data\n",
        "\n",
        "\n",
        "def crop_insignificant_values(digit:np.ndarray, threshold=0.1):\n",
        "    bool_digit = digit > threshold\n",
        "    x_range = bool_digit.max(axis=0)\n",
        "    y_range = bool_digit.max(axis=1)\n",
        "    start_x = (x_range.cumsum() == 0).sum()\n",
        "    end_x = (x_range[::-1].cumsum() == 0).sum()\n",
        "    start_y = (y_range.cumsum() == 0).sum()\n",
        "    end_y = (y_range[::-1].cumsum() == 0).sum()\n",
        "    return digit[start_y:-end_y - 1, start_x:-end_x - 1]\n",
        "\n",
        "\n",
        "TRAIN_DIGITS = [\n",
        "    crop_insignificant_values(digit) / 255.0\n",
        "    for digit_index, digit in enumerate(mnist_x_train[:10000])\n",
        "]\n",
        "TRAIN_CLASSES = mnist_y_train[:10000]\n",
        "\n",
        "TEST_DIGITS = [\n",
        "    crop_insignificant_values(digit) / 255.0\n",
        "    for digit_index, digit in enumerate(mnist_x_test[:1000])\n",
        "]\n",
        "TEST_CLASSES = mnist_y_test[:1000]\n",
        "\n",
        "\n",
        "def get_random_canvas(\n",
        "    digits: Optional[List[np.ndarray]] = None,\n",
        "    classes: Optional[List[int]] = None,\n",
        "    nb_of_digits: Optional[int] = None,\n",
        "    ):\n",
        "    digits = digits if digits is not None else TRAIN_DIGITS\n",
        "    classes = classes if classes is not None else TRAIN_CLASSES\n",
        "    nb_of_digits = nb_of_digits if nb_of_digits is not None else np.random.randint(low=3, high=6 + 1)\n",
        "    new_canvas = MnistCanvas.get_empty_of_size(size=(128, 128))\n",
        "    attempts_done = 0\n",
        "    while attempts_done < nb_of_digits:\n",
        "        current_digit_index = np.random.randint(len(digits))\n",
        "        current_digit_class = classes[current_digit_index]\n",
        "        if current_digit_class not in [1, 2, 3, 4, 5]:\n",
        "            continue\n",
        "        rotate = np.random.random() > 0.5\n",
        "        current_digit = digits[current_digit_index]\n",
        "        if rotate:\n",
        "            current_digit = np.rot90(current_digit)\n",
        "        random_x_min = np.random.randint(0, 128 - current_digit.shape[0] - 3)\n",
        "        random_y_min = np.random.randint(0, 128 - current_digit.shape[1] - 3)\n",
        "        if new_canvas.add_digit(\n",
        "            digit=current_digit,\n",
        "            x_min=random_x_min,\n",
        "            y_min=random_y_min,\n",
        "            class_nb=current_digit_class,\n",
        "            rotated=rotate,\n",
        "        ):\n",
        "            attempts_done += 1\n",
        "    return new_canvas"
      ]
    },
    {
      "cell_type": "markdown",
      "metadata": {
        "id": "5i2OjUEC7eaC"
      },
      "source": [
        "Let us have a look at example canvas (rotated digits have additional *added to description)."
      ]
    },
    {
      "cell_type": "code",
      "execution_count": null,
      "metadata": {
        "colab": {
          "base_uri": "https://localhost:8080/",
          "height": 267
        },
        "id": "OsLpINOtvhd8",
        "outputId": "31e50b15-cd30-4d84-8fc5-65f05d997234"
      },
      "outputs": [
        {
          "output_type": "display_data",
          "data": {
            "image/png": "[encoded data removed]",
            "text/plain": [
              "<Figure size 432x288 with 1 Axes>"
            ]
          },
          "metadata": {
            "needs_background": "light"
          }
        }
      ],
      "source": [
        "mnist_canvas = get_random_canvas()\n",
        "mnist_canvas.plot()"
      ]
    },
    {
      "cell_type": "code",
      "execution_count": null,
      "metadata": {
        "colab": {
          "base_uri": "https://localhost:8080/"
        },
        "id": "aptjk0Z2uFFa",
        "outputId": "a77345e4-c3c3-4991-c3f1-5db97fe90e2a"
      },
      "outputs": [
        {
          "output_type": "execute_result",
          "data": {
            "text/plain": [
              "[Mnist Box: x_min = 39, x_max = 58, y_min = 0, y_max = 19. Class = 5. Rotated = False.,\n",
              " Mnist Box: x_min = 46, x_max = 63, y_min = 73, y_max = 92. Class = 5. Rotated = False.,\n",
              " Mnist Box: x_min = 72, x_max = 91, y_min = 44, y_max = 59. Class = 2. Rotated = False.,\n",
              " Mnist Box: x_min = 55, x_max = 74, y_min = 51, y_max = 64. Class = 4. Rotated = False.,\n",
              " Mnist Box: x_min = 30, x_max = 47, y_min = 48, y_max = 67. Class = 3. Rotated = True.,\n",
              " Mnist Box: x_min = 8, x_max = 27, y_min = 91, y_max = 100. Class = 2. Rotated = False.]"
            ]
          },
          "metadata": {},
          "execution_count": 31
        }
      ],
      "source": [
        "mnist_canvas.boxes"
      ]
    },
    {
      "cell_type": "code",
      "execution_count": null,
      "metadata": {
        "id": "Hj2pXtGKPS0T"
      },
      "outputs": [],
      "source": [
        "classes = [mnist_canvas.boxes[i].class_nb for i in range(len(mnist_canvas.boxes))]"
      ]
    },
    {
      "cell_type": "code",
      "execution_count": null,
      "metadata": {
        "colab": {
          "base_uri": "https://localhost:8080/"
        },
        "id": "enAPOoC83UlL",
        "outputId": "bfd50855-ff16-433e-a792-da86bcfcc412"
      },
      "outputs": [
        {
          "output_type": "execute_result",
          "data": {
            "text/plain": [
              "[5, 5, 2, 4, 3, 2]"
            ]
          },
          "metadata": {},
          "execution_count": 33
        }
      ],
      "source": [
        "classes"
      ]
    },
    {
      "cell_type": "markdown",
      "metadata": {
        "id": "4QkpHGiOCnng"
      },
      "source": [
        "Now - let us generate test canvas:"
      ]
    },
    {
      "cell_type": "code",
      "execution_count": null,
      "metadata": {
        "colab": {
          "base_uri": "https://localhost:8080/",
          "height": 267
        },
        "id": "PV410KSYC-eT",
        "outputId": "5b33bc9b-d0e0-436c-f3cb-d09862cfcd5d"
      },
      "outputs": [
        {
          "output_type": "display_data",
          "data": {
            "image/png": "[encoded data removed]",
            "text/plain": [
              "<Figure size 432x288 with 1 Axes>"
            ]
          },
          "metadata": {
            "needs_background": "light"
          }
        }
      ],
      "source": [
        "TEST_CANVAS_SIZE = 256\n",
        "TEST_SEED = 42 # DO NOT CHANGE THIS LINE.\n",
        "\n",
        "np.random.seed(TEST_SEED)\n",
        "\n",
        "TEST_CANVAS = [\n",
        "    get_random_canvas(\n",
        "        digits=TEST_DIGITS,\n",
        "        classes=TEST_CLASSES,\n",
        "    )\n",
        "    for _ in range(TEST_CANVAS_SIZE)\n",
        "]\n",
        "\n",
        "TEST_CANVAS[0].plot()"
      ]
    },
    {
      "cell_type": "code",
      "execution_count": null,
      "metadata": {
        "colab": {
          "base_uri": "https://localhost:8080/"
        },
        "id": "6xYXlYxynaMK",
        "outputId": "12d34bd4-9c1f-48ca-9d93-60bf9844edf3"
      },
      "outputs": [
        {
          "output_type": "execute_result",
          "data": {
            "text/plain": [
              "array([5, 0, 4, ..., 6, 9, 7], dtype=uint8)"
            ]
          },
          "metadata": {},
          "execution_count": 35
        }
      ],
      "source": [
        "TRAIN_CLASSES"
      ]
    },
    {
      "cell_type": "code",
      "execution_count": null,
      "metadata": {
        "id": "rvH7jciOttq0"
      },
      "outputs": [],
      "source": [
        "mnten = mnist_canvas.get_torch_tensor()"
      ]
    },
    {
      "cell_type": "code",
      "execution_count": null,
      "metadata": {
        "colab": {
          "base_uri": "https://localhost:8080/"
        },
        "id": "k2gJ3Pbs2j62",
        "outputId": "9fc968f0-341d-4b84-fec5-04b63caafec0"
      },
      "outputs": [
        {
          "output_type": "execute_result",
          "data": {
            "text/plain": [
              "torch.Size([1, 1, 128, 128])"
            ]
          },
          "metadata": {},
          "execution_count": 37
        }
      ],
      "source": [
        "mnten.shape"
      ]
    },
    {
      "cell_type": "code",
      "execution_count": null,
      "metadata": {
        "colab": {
          "base_uri": "https://localhost:8080/",
          "height": 267
        },
        "id": "P2kRFXXcxIwf",
        "outputId": "06ba1ca1-3741-4f3d-ff39-bce4cdb6fe84"
      },
      "outputs": [
        {
          "output_type": "display_data",
          "data": {
            "image/png": "[encoded data removed]",
            "text/plain": [
              "<Figure size 432x288 with 1 Axes>"
            ]
          },
          "metadata": {
            "needs_background": "light"
          }
        }
      ],
      "source": [
        "TRAIN_CANVAS_SIZE = 256\n",
        "#TRAIN_SEED = 42 # DO NOT CHANGE THIS LINE.\n",
        "\n",
        "# np.random.seed(TRAIN_SEED)\n",
        "\n",
        "TRAIN_CANVAS = [\n",
        "    get_random_canvas(\n",
        "        digits=TRAIN_DIGITS,\n",
        "        classes=TRAIN_CLASSES,\n",
        "    )\n",
        "    for _ in range(TRAIN_CANVAS_SIZE)\n",
        "]\n",
        "\n",
        "TRAIN_CANVAS[0].plot()"
      ]
    },
    {
      "cell_type": "code",
      "execution_count": null,
      "metadata": {
        "id": "-_bRiaUb1tZG"
      },
      "outputs": [],
      "source": [
        ""
      ]
    },
    {
      "cell_type": "markdown",
      "metadata": {
        "id": "OgU2bKyJ3pVh"
      },
      "source": [
        "For training one can either:\n",
        "- generate `TRAIN_CANVAS` similarly to `TEST_CANVAS` creation,\n",
        "- use the fact that `get_random_canvas()` generates a random train canvas and generate training data on-the-fly."
      ]
    },
    {
      "cell_type": "markdown",
      "metadata": {
        "id": "Ri3Jh7GzjZ4W"
      },
      "source": [
        "### Anchor size analysis (2pts)\n",
        "\n",
        "For this task:\n",
        "1. Sample at least 1000 random canvas.\n",
        "2. Analyze the sizes (heights and widths) of the `MnistBox`es from this canvas.\n",
        "3. Select the anchor sizes which will match the problem the best.\n",
        "\n",
        "Selected anchor sizes should be stored in a sensible manner in `ANCHOR_SIZES` list."
      ]
    },
    {
      "cell_type": "code",
      "execution_count": null,
      "metadata": {
        "id": "KWLTAoFwkEnu"
      },
      "outputs": [],
      "source": [
        "import collections\n",
        "import matplotlib.pyplot as plt\n",
        "\n",
        "xs = []\n",
        "ys = []\n",
        "alls = []\n",
        "for i in range(1000):\n",
        "  canva = get_random_canvas()\n",
        "  boxes = canva.boxes\n",
        "  for box in boxes:\n",
        "    x_size = box.x_max - box.x_min\n",
        "    y_size = box.y_max - box.y_min\n",
        "    xs.append(x_size)\n",
        "    ys.append(y_size)\n",
        "    alls.append((x_size, y_size))\n",
        "\n"
      ]
    },
    {
      "cell_type": "code",
      "execution_count": null,
      "metadata": {
        "colab": {
          "base_uri": "https://localhost:8080/"
        },
        "id": "HPC7QKQN0-58",
        "outputId": "d1fbc999-ce9f-4848-80ad-ca4104ffb6aa"
      },
      "outputs": [
        {
          "output_type": "execute_result",
          "data": {
            "text/plain": [
              "<matplotlib.collections.PathCollection at 0x7f3333247ad0>"
            ]
          },
          "metadata": {},
          "execution_count": 40
        },
        {
          "output_type": "display_data",
          "data": {
            "image/png": "[encoded data removed]",
            "text/plain": [
              "<Figure size 432x288 with 1 Axes>"
            ]
          },
          "metadata": {
            "needs_background": "light"
          }
        }
      ],
      "source": [
        "plt.scatter(xs, ys)"
      ]
    },
    {
      "cell_type": "code",
      "execution_count": null,
      "metadata": {
        "colab": {
          "base_uri": "https://localhost:8080/"
        },
        "id": "jiRmAHYM2UNg",
        "outputId": "bf5ecac9-42b3-4c72-f5b6-7a97078d9d9f"
      },
      "outputs": [
        {
          "output_type": "execute_result",
          "data": {
            "text/plain": [
              "<matplotlib.image.AxesImage at 0x7f332fc25bd0>"
            ]
          },
          "metadata": {},
          "execution_count": 41
        },
        {
          "output_type": "display_data",
          "data": {
            "image/png": "[encoded data removed]",
            "text/plain": [
              "<Figure size 432x288 with 1 Axes>"
            ]
          },
          "metadata": {
            "needs_background": "light"
          }
        }
      ],
      "source": [
        "import pandas as pd\n",
        "alls = pd.DataFrame(alls)\n",
        "alls.columns = ['x', 'y']\n",
        "\n",
        "counts = pd.DataFrame(alls[['x', 'y']].value_counts())\n",
        "counts.reset_index(inplace=True)\n",
        "counts.columns = ['x', 'y', 'count']\n",
        "heat = np.zeros((20,20))\n",
        "for x in alls['x'].unique():\n",
        "  for y in alls.loc[alls['x']== x, 'y'].unique():\n",
        "    heat[x, y] = counts.loc[(counts['x']==x) & (counts['y'] == y)]['count']\n",
        "    \n",
        "plt.imshow(heat)"
      ]
    },
    {
      "cell_type": "code",
      "execution_count": null,
      "metadata": {
        "id": "qkOfWNrE1zWK"
      },
      "outputs": [],
      "source": [
        "alls = pd.DataFrame(alls)\n",
        "alls.columns = ['x', 'y']\n",
        "pairs = pd.DataFrame(alls[['x', 'y']].value_counts())\n",
        "pairs.reset_index(inplace=True)\n",
        "pairs['anchor'] = [(x, y) for x, y in zip(pairs['x'], pairs['y'])]"
      ]
    },
    {
      "cell_type": "code",
      "execution_count": null,
      "metadata": {
        "colab": {
          "base_uri": "https://localhost:8080/"
        },
        "id": "Yv5jZglKAfuU",
        "outputId": "7307443c-1302-4293-feef-a45334851e90"
      },
      "outputs": [
        {
          "output_type": "execute_result",
          "data": {
            "text/html": [
              "\n",
              "  <div id=\"df-d06a1684-a66d-44fd-979d-c5d3a00cd1ed\">\n",
              "    <div class=\"colab-df-container\">\n",
              "      <div>\n",
              "<style scoped>\n",
              "    .dataframe tbody tr th:only-of-type {\n",
              "        vertical-align: middle;\n",
              "    }\n",
              "\n",
              "    .dataframe tbody tr th {\n",
              "        vertical-align: top;\n",
              "    }\n",
              "\n",
              "    .dataframe thead th {\n",
              "        text-align: right;\n",
              "    }\n",
              "</style>\n",
              "<table border=\"1\" class=\"dataframe\">\n",
              "  <thead>\n",
              "    <tr style=\"text-align: right;\">\n",
              "      <th></th>\n",
              "      <th>x</th>\n",
              "      <th>y</th>\n",
              "      <th>0</th>\n",
              "      <th>anchor</th>\n",
              "    </tr>\n",
              "  </thead>\n",
              "  <tbody>\n",
              "    <tr>\n",
              "      <th>0</th>\n",
              "      <td>19</td>\n",
              "      <td>19</td>\n",
              "      <td>789</td>\n",
              "      <td>(19, 19)</td>\n",
              "    </tr>\n",
              "    <tr>\n",
              "      <th>1</th>\n",
              "      <td>17</td>\n",
              "      <td>19</td>\n",
              "      <td>379</td>\n",
              "      <td>(17, 19)</td>\n",
              "    </tr>\n",
              "    <tr>\n",
              "      <th>2</th>\n",
              "      <td>19</td>\n",
              "      <td>17</td>\n",
              "      <td>340</td>\n",
              "      <td>(19, 17)</td>\n",
              "    </tr>\n",
              "    <tr>\n",
              "      <th>3</th>\n",
              "      <td>15</td>\n",
              "      <td>19</td>\n",
              "      <td>331</td>\n",
              "      <td>(15, 19)</td>\n",
              "    </tr>\n",
              "    <tr>\n",
              "      <th>4</th>\n",
              "      <td>19</td>\n",
              "      <td>15</td>\n",
              "      <td>324</td>\n",
              "      <td>(19, 15)</td>\n",
              "    </tr>\n",
              "    <tr>\n",
              "      <th>5</th>\n",
              "      <td>19</td>\n",
              "      <td>13</td>\n",
              "      <td>290</td>\n",
              "      <td>(19, 13)</td>\n",
              "    </tr>\n",
              "    <tr>\n",
              "      <th>6</th>\n",
              "      <td>13</td>\n",
              "      <td>19</td>\n",
              "      <td>289</td>\n",
              "      <td>(13, 19)</td>\n",
              "    </tr>\n",
              "    <tr>\n",
              "      <th>7</th>\n",
              "      <td>19</td>\n",
              "      <td>11</td>\n",
              "      <td>182</td>\n",
              "      <td>(19, 11)</td>\n",
              "    </tr>\n",
              "    <tr>\n",
              "      <th>8</th>\n",
              "      <td>11</td>\n",
              "      <td>19</td>\n",
              "      <td>171</td>\n",
              "      <td>(11, 19)</td>\n",
              "    </tr>\n",
              "    <tr>\n",
              "      <th>9</th>\n",
              "      <td>18</td>\n",
              "      <td>19</td>\n",
              "      <td>113</td>\n",
              "      <td>(18, 19)</td>\n",
              "    </tr>\n",
              "    <tr>\n",
              "      <th>10</th>\n",
              "      <td>19</td>\n",
              "      <td>18</td>\n",
              "      <td>101</td>\n",
              "      <td>(19, 18)</td>\n",
              "    </tr>\n",
              "    <tr>\n",
              "      <th>11</th>\n",
              "      <td>16</td>\n",
              "      <td>19</td>\n",
              "      <td>96</td>\n",
              "      <td>(16, 19)</td>\n",
              "    </tr>\n",
              "    <tr>\n",
              "      <th>12</th>\n",
              "      <td>19</td>\n",
              "      <td>14</td>\n",
              "      <td>96</td>\n",
              "      <td>(19, 14)</td>\n",
              "    </tr>\n",
              "    <tr>\n",
              "      <th>13</th>\n",
              "      <td>19</td>\n",
              "      <td>16</td>\n",
              "      <td>96</td>\n",
              "      <td>(19, 16)</td>\n",
              "    </tr>\n",
              "    <tr>\n",
              "      <th>14</th>\n",
              "      <td>9</td>\n",
              "      <td>19</td>\n",
              "      <td>91</td>\n",
              "      <td>(9, 19)</td>\n",
              "    </tr>\n",
              "    <tr>\n",
              "      <th>15</th>\n",
              "      <td>19</td>\n",
              "      <td>5</td>\n",
              "      <td>89</td>\n",
              "      <td>(19, 5)</td>\n",
              "    </tr>\n",
              "    <tr>\n",
              "      <th>16</th>\n",
              "      <td>19</td>\n",
              "      <td>9</td>\n",
              "      <td>73</td>\n",
              "      <td>(19, 9)</td>\n",
              "    </tr>\n",
              "    <tr>\n",
              "      <th>17</th>\n",
              "      <td>12</td>\n",
              "      <td>19</td>\n",
              "      <td>70</td>\n",
              "      <td>(12, 19)</td>\n",
              "    </tr>\n",
              "    <tr>\n",
              "      <th>18</th>\n",
              "      <td>14</td>\n",
              "      <td>19</td>\n",
              "      <td>69</td>\n",
              "      <td>(14, 19)</td>\n",
              "    </tr>\n",
              "    <tr>\n",
              "      <th>19</th>\n",
              "      <td>5</td>\n",
              "      <td>19</td>\n",
              "      <td>68</td>\n",
              "      <td>(5, 19)</td>\n",
              "    </tr>\n",
              "    <tr>\n",
              "      <th>20</th>\n",
              "      <td>19</td>\n",
              "      <td>12</td>\n",
              "      <td>64</td>\n",
              "      <td>(19, 12)</td>\n",
              "    </tr>\n",
              "    <tr>\n",
              "      <th>21</th>\n",
              "      <td>3</td>\n",
              "      <td>19</td>\n",
              "      <td>63</td>\n",
              "      <td>(3, 19)</td>\n",
              "    </tr>\n",
              "    <tr>\n",
              "      <th>22</th>\n",
              "      <td>19</td>\n",
              "      <td>7</td>\n",
              "      <td>54</td>\n",
              "      <td>(19, 7)</td>\n",
              "    </tr>\n",
              "    <tr>\n",
              "      <th>23</th>\n",
              "      <td>19</td>\n",
              "      <td>3</td>\n",
              "      <td>47</td>\n",
              "      <td>(19, 3)</td>\n",
              "    </tr>\n",
              "    <tr>\n",
              "      <th>24</th>\n",
              "      <td>7</td>\n",
              "      <td>19</td>\n",
              "      <td>42</td>\n",
              "      <td>(7, 19)</td>\n",
              "    </tr>\n",
              "    <tr>\n",
              "      <th>25</th>\n",
              "      <td>10</td>\n",
              "      <td>19</td>\n",
              "      <td>35</td>\n",
              "      <td>(10, 19)</td>\n",
              "    </tr>\n",
              "    <tr>\n",
              "      <th>26</th>\n",
              "      <td>19</td>\n",
              "      <td>10</td>\n",
              "      <td>30</td>\n",
              "      <td>(19, 10)</td>\n",
              "    </tr>\n",
              "    <tr>\n",
              "      <th>27</th>\n",
              "      <td>8</td>\n",
              "      <td>19</td>\n",
              "      <td>28</td>\n",
              "      <td>(8, 19)</td>\n",
              "    </tr>\n",
              "    <tr>\n",
              "      <th>28</th>\n",
              "      <td>19</td>\n",
              "      <td>4</td>\n",
              "      <td>27</td>\n",
              "      <td>(19, 4)</td>\n",
              "    </tr>\n",
              "    <tr>\n",
              "      <th>29</th>\n",
              "      <td>6</td>\n",
              "      <td>19</td>\n",
              "      <td>27</td>\n",
              "      <td>(6, 19)</td>\n",
              "    </tr>\n",
              "    <tr>\n",
              "      <th>30</th>\n",
              "      <td>19</td>\n",
              "      <td>6</td>\n",
              "      <td>26</td>\n",
              "      <td>(19, 6)</td>\n",
              "    </tr>\n",
              "    <tr>\n",
              "      <th>31</th>\n",
              "      <td>19</td>\n",
              "      <td>8</td>\n",
              "      <td>25</td>\n",
              "      <td>(19, 8)</td>\n",
              "    </tr>\n",
              "    <tr>\n",
              "      <th>32</th>\n",
              "      <td>4</td>\n",
              "      <td>19</td>\n",
              "      <td>19</td>\n",
              "      <td>(4, 19)</td>\n",
              "    </tr>\n",
              "    <tr>\n",
              "      <th>33</th>\n",
              "      <td>19</td>\n",
              "      <td>2</td>\n",
              "      <td>3</td>\n",
              "      <td>(19, 2)</td>\n",
              "    </tr>\n",
              "  </tbody>\n",
              "</table>\n",
              "</div>\n",
              "      <button class=\"colab-df-convert\" onclick=\"convertToInteractive('df-d06a1684-a66d-44fd-979d-c5d3a00cd1ed')\"\n",
              "              title=\"Convert this dataframe to an interactive table.\"\n",
              "              style=\"display:none;\">\n",
              "        \n",
              "  <svg xmlns=\"http://www.w3.org/2000/svg\" height=\"24px\"viewBox=\"0 0 24 24\"\n",
              "       width=\"24px\">\n",
              "    <path d=\"M0 0h24v24H0V0z\" fill=\"none\"/>\n",
              "    <path d=\"M18.56 5.44l.94 2.06.94-2.06 2.06-.94-2.06-.94-.94-2.06-.94 2.06-2.06.94zm-11 1L8.5 8.5l.94-2.06 2.06-.94-2.06-.94L8.5 2.5l-.94 2.06-2.06.94zm10 10l.94 2.06.94-2.06 2.06-.94-2.06-.94-.94-2.06-.94 2.06-2.06.94z\"/><path d=\"M17.41 7.96l-1.37-1.37c-.4-.4-.92-.59-1.43-.59-.52 0-1.04.2-1.43.59L10.3 9.45l-7.72 7.72c-.78.78-.78 2.05 0 2.83L4 21.41c.39.39.9.59 1.41.59.51 0 1.02-.2 1.41-.59l7.78-7.78 2.81-2.81c.8-.78.8-2.07 0-2.86zM5.41 20L4 18.59l7.72-7.72 1.47 1.35L5.41 20z\"/>\n",
              "  </svg>\n",
              "      </button>\n",
              "      \n",
              "  <style>\n",
              "    .colab-df-container {\n",
              "      display:flex;\n",
              "      flex-wrap:wrap;\n",
              "      gap: 12px;\n",
              "    }\n",
              "\n",
              "    .colab-df-convert {\n",
              "      background-color: #E8F0FE;\n",
              "      border: none;\n",
              "      border-radius: 50%;\n",
              "      cursor: pointer;\n",
              "      display: none;\n",
              "      fill: #1967D2;\n",
              "      height: 32px;\n",
              "      padding: 0 0 0 0;\n",
              "      width: 32px;\n",
              "    }\n",
              "\n",
              "    .colab-df-convert:hover {\n",
              "      background-color: #E2EBFA;\n",
              "      box-shadow: 0px 1px 2px rgba(60, 64, 67, 0.3), 0px 1px 3px 1px rgba(60, 64, 67, 0.15);\n",
              "      fill: #174EA6;\n",
              "    }\n",
              "\n",
              "    [theme=dark] .colab-df-convert {\n",
              "      background-color: #3B4455;\n",
              "      fill: #D2E3FC;\n",
              "    }\n",
              "\n",
              "    [theme=dark] .colab-df-convert:hover {\n",
              "      background-color: #434B5C;\n",
              "      box-shadow: 0px 1px 3px 1px rgba(0, 0, 0, 0.15);\n",
              "      filter: drop-shadow(0px 1px 2px rgba(0, 0, 0, 0.3));\n",
              "      fill: #FFFFFF;\n",
              "    }\n",
              "  </style>\n",
              "\n",
              "      <script>\n",
              "        const buttonEl =\n",
              "          document.querySelector('#df-d06a1684-a66d-44fd-979d-c5d3a00cd1ed button.colab-df-convert');\n",
              "        buttonEl.style.display =\n",
              "          google.colab.kernel.accessAllowed ? 'block' : 'none';\n",
              "\n",
              "        async function convertToInteractive(key) {\n",
              "          const element = document.querySelector('#df-d06a1684-a66d-44fd-979d-c5d3a00cd1ed');\n",
              "          const dataTable =\n",
              "            await google.colab.kernel.invokeFunction('convertToInteractive',\n",
              "                                                     [key], {});\n",
              "          if (!dataTable) return;\n",
              "\n",
              "          const docLinkHtml = 'Like what you see? Visit the ' +\n",
              "            '<a target=\"_blank\" href=https://colab.research.google.com/notebooks/data_table.ipynb>data table notebook</a>'\n",
              "            + ' to learn more about interactive tables.';\n",
              "          element.innerHTML = '';\n",
              "          dataTable['output_type'] = 'display_data';\n",
              "          await google.colab.output.renderOutput(dataTable, element);\n",
              "          const docLink = document.createElement('div');\n",
              "          docLink.innerHTML = docLinkHtml;\n",
              "          element.appendChild(docLink);\n",
              "        }\n",
              "      </script>\n",
              "    </div>\n",
              "  </div>\n",
              "  "
            ],
            "text/plain": [
              "     x   y    0    anchor\n",
              "0   19  19  789  (19, 19)\n",
              "1   17  19  379  (17, 19)\n",
              "2   19  17  340  (19, 17)\n",
              "3   15  19  331  (15, 19)\n",
              "4   19  15  324  (19, 15)\n",
              "5   19  13  290  (19, 13)\n",
              "6   13  19  289  (13, 19)\n",
              "7   19  11  182  (19, 11)\n",
              "8   11  19  171  (11, 19)\n",
              "9   18  19  113  (18, 19)\n",
              "10  19  18  101  (19, 18)\n",
              "11  16  19   96  (16, 19)\n",
              "12  19  14   96  (19, 14)\n",
              "13  19  16   96  (19, 16)\n",
              "14   9  19   91   (9, 19)\n",
              "15  19   5   89   (19, 5)\n",
              "16  19   9   73   (19, 9)\n",
              "17  12  19   70  (12, 19)\n",
              "18  14  19   69  (14, 19)\n",
              "19   5  19   68   (5, 19)\n",
              "20  19  12   64  (19, 12)\n",
              "21   3  19   63   (3, 19)\n",
              "22  19   7   54   (19, 7)\n",
              "23  19   3   47   (19, 3)\n",
              "24   7  19   42   (7, 19)\n",
              "25  10  19   35  (10, 19)\n",
              "26  19  10   30  (19, 10)\n",
              "27   8  19   28   (8, 19)\n",
              "28  19   4   27   (19, 4)\n",
              "29   6  19   27   (6, 19)\n",
              "30  19   6   26   (19, 6)\n",
              "31  19   8   25   (19, 8)\n",
              "32   4  19   19   (4, 19)\n",
              "33  19   2    3   (19, 2)"
            ]
          },
          "metadata": {},
          "execution_count": 43
        }
      ],
      "source": [
        "pairs #.sort_values('anchor')"
      ]
    },
    {
      "cell_type": "code",
      "execution_count": null,
      "metadata": {
        "colab": {
          "base_uri": "https://localhost:8080/"
        },
        "id": "cjEN-JJX_3b4",
        "outputId": "16864e3a-38bd-49df-b9b8-54ad0f4521ef"
      },
      "outputs": [
        {
          "output_type": "stream",
          "name": "stdout",
          "text": [
            "ANCHOR_SIZES: [(22, 22), (19, 19), (17, 19), (19, 17), (19, 15), (15, 19), (13, 19), (19, 13), (9, 19), (19, 9), (19, 5), (5, 19)]\n"
          ]
        }
      ],
      "source": [
        "## mniejsza ilość wartości  najlepiej pokrywająca większość przypadków w zasięgu 3-3\n",
        "ANCHOR_SIZES = [(22,22),(19,19),(17,19), (19, 17), (19,15), (15,19), (13, 19), (19,13), (9,19), (19,9), (19,5), (5,19)]\n",
        "print(\"ANCHOR_SIZES:\", ANCHOR_SIZES)"
      ]
    },
    {
      "cell_type": "code",
      "execution_count": null,
      "metadata": {
        "colab": {
          "base_uri": "https://localhost:8080/"
        },
        "id": "gexpEfON-uC8",
        "outputId": "8738f723-f5ab-46b3-c32b-7a5c23660367"
      },
      "outputs": [
        {
          "output_type": "execute_result",
          "data": {
            "text/plain": [
              "12"
            ]
          },
          "metadata": {},
          "execution_count": 45
        }
      ],
      "source": [
        "len(ANCHOR_SIZES)"
      ]
    },
    {
      "cell_type": "markdown",
      "metadata": {
        "id": "yjtLrrC6sQ8f"
      },
      "source": [
        ""
      ]
    },
    {
      "cell_type": "markdown",
      "metadata": {
        "id": "_GpJZUkDGJSi"
      },
      "source": [
        "### Model building descr \n",
        "\n",
        "\n",
        "One should build a model for digit detection in $\\texttt{pytorch}$. Model should consist of:\n"
      ]
    },
    {
      "cell_type": "markdown",
      "metadata": {
        "id": "0kb4gqHjBt8M"
      },
      "source": [
        "#### $\\texttt{backbone}$:\n",
        "\n",
        "We provided you with a backbone model architecture that accepts a `MnistCanvas` instance and output a tensor with shape $(1, 16, 16, 128)$. It should be trained together with the rest of your solution.\n",
        "\n",
        "#### $\\texttt{anchors}$:\n",
        "\n",
        "List of `MnistBox`es where each box:\n",
        "\n",
        "- should have size of one of selected `ANCHOR_SIZES`,\n",
        "- should have center coordinates on canvas of type $\\left(\\left(m + \\frac{1}{2}\\right) * 8, \\left(n + \\frac{1}{2}\\right) * 8\\right)$  for $m, n \\in \\{0, 1, \\dots, 16 - 1\\}$,\n",
        "\n",
        "`MnistBox` with anchor should have an attribute `class_nb` set to `None`.\n",
        "\n",
        "#### $\\texttt{digitClassificationHead}$:\n",
        "\n",
        "$\\texttt{digitClassificationHead}$ should accept backbone output as an input and output `digit_classification_output` tensor of shape $(len(\\texttt{anchors)}, 5)$ where the value $ch_{i, j}$ which is the value of i-th row and j-th column has a property that $sigmoid(ch_{i, j})$ is a probability that i-th anchor from $\\texttt{anchors}$ overlaps significantly with some canvas `GTBox: MnistBox` with a digit of class $j + 1$ (ground truth box).\n",
        "\n",
        "#### $\\texttt{rotationClassificationHead}$:\n",
        "\n",
        "$\\texttt{rotationClassificationHead}$ should accept backbone output as an input and output `rotation_classification_output` tensor of shape $(len(\\texttt{anchors)}, 2)$ where the value $ch_{i, j}$ which is the value of i-th row and j-th column has a property that $sigmoid(ch_{i, j})$ is a probability that i-th anchor from $\\texttt{anchors}$ overlaps significantly with some canvas `GTBox: MnistBox` with a digit which was not rotated when $j = 0$ and was rotated when $j = 1$.\n",
        "\n",
        "#### $\\texttt{boxRegressionHead}$:\n",
        "\n",
        "$\\texttt{boxRegressionHead}$ should accept backbone output as an input and output `box_regression_output` tensor of shape $(len(\\texttt{anchors)}, 4)$ where the value $br_{i}$ which is the value of i-th row has a property that if there is a ground truth digit box $\\texttt{GTBox}$ - significantly overlapping with $\\texttt{anchor}[i]$ then the following properties hold:\n",
        "\n",
        "$$\\texttt{GTBox.x_min} = \\texttt{anchor[i].x_min} + br_{i, 0},$$ \n",
        "$$\\texttt{GTBox.x_max} = \\texttt{anchor[i].x_max} + br_{i, 1},$$ \n",
        "$$\\texttt{GTBox.y_min} = \\texttt{anchor[i].y_min} + br_{i, 2},$$ \n",
        "$$\\texttt{GTBox.y_max} = \\texttt{anchor[i].y_max} + br_{i, 3}.$$ \n",
        "\n",
        "#### *Hint*: be careful with a construction of a head output as a simple reshaping might cause unexpected permutation of anchors.\n",
        "\n",
        "### Model output\n",
        "\n",
        "Model should output `DigitDetectionModelOutput` class defined below.\n",
        "\n",
        "#### Comment on _significant overlap_:\n",
        "\n",
        "The meaning of significant overlap will be described later."
      ]
    },
    {
      "cell_type": "markdown",
      "metadata": {
        "id": "R7AjsqR7CEyA"
      },
      "source": [
        "### Model building (2pt)"
      ]
    },
    {
      "cell_type": "markdown",
      "metadata": {
        "id": "ONE6PLF1CEgi"
      },
      "source": [
        ""
      ]
    },
    {
      "cell_type": "code",
      "execution_count": null,
      "metadata": {
        "id": "yA_rS83IwGeL"
      },
      "outputs": [],
      "source": [
        "# set centers\n",
        "\n",
        "def set_centers(num=16):\n",
        "  centers = []\n",
        "  for m in range(num):\n",
        "    for n in range(num):\n",
        "      center = ((m+0.5)*8 , (n+0.5)*8)\n",
        "      centers.append(center)\n",
        "  return centers"
      ]
    },
    {
      "cell_type": "code",
      "execution_count": null,
      "metadata": {
        "id": "7SiwS4PtGuM_"
      },
      "outputs": [],
      "source": [
        "def set_anchors(centers, ANCHOR_SIZES):\n",
        "  anchors = []\n",
        "\n",
        "  for center in centers:\n",
        "    for size in ANCHOR_SIZES:\n",
        "      x_min = center[0] - int(0.5 * (size[0]))\n",
        "      x_max = center[0] + int(0.5 * (size[0]))\n",
        "      y_min = center[1] - int(0.5 * (size[1]))\n",
        "      y_max = center[1] + int(0.5 * (size[1]))\n",
        "      box = MnistBox(x_min=x_min, x_max=x_max, y_min=y_min, y_max=y_max)\n",
        "      anchors.append(box)\n",
        "  return anchors"
      ]
    },
    {
      "cell_type": "code",
      "execution_count": null,
      "metadata": {
        "id": "Qnc_3PzHGuJz"
      },
      "outputs": [],
      "source": [
        "centers = set_centers()\n",
        "anchors = set_anchors(centers, ANCHOR_SIZES)"
      ]
    },
    {
      "cell_type": "code",
      "execution_count": null,
      "metadata": {
        "colab": {
          "base_uri": "https://localhost:8080/"
        },
        "id": "VP7VZiUyGuG9",
        "outputId": "95210b0e-64bd-4fed-dbfa-8b1b006812ad"
      },
      "outputs": [
        {
          "output_type": "execute_result",
          "data": {
            "text/plain": [
              "3072"
            ]
          },
          "metadata": {},
          "execution_count": 49
        }
      ],
      "source": [
        "len(anchors)"
      ]
    },
    {
      "cell_type": "code",
      "execution_count": null,
      "metadata": {
        "id": "iMU9cjhLwGn_"
      },
      "outputs": [],
      "source": [
        "class digitClassificationHead(torch.nn.Module): \n",
        "    \"\"\"digitClassificationHead  should accept backbone output as an input and output digit_classification_output tensor of shape  (len(anchors),5) \n",
        "    where the value  chi,j  which is the value of i-th row and j-th column has a property that  sigmoid(chi,j)  is a probability that\n",
        "      i-th anchor from  anchors  overlaps significantly with some canvas GTBox: MnistBox with a digit of class  j+1  (ground truth box).\"\"\"\n",
        "    def __init__(self, out_size): #out_size = (len(anchors),5) \n",
        "      super().__init__()\n",
        "      self.layers= []\n",
        "      for _ in range(3):\n",
        "        self.layers.append(nn.Conv2d(128, 128, kernel_size=3, stride=1, padding=1))\n",
        "        self.layers.append(nn.ReLU(True))\n",
        "      self.layers.append(nn.Conv2d(128, out_size, kernel_size=3, stride=1, padding=1))\n",
        "      self.layers = nn.Sequential(*self.layers)\n",
        "\n",
        "\n",
        "    def forward(self,x):\n",
        "      out = self.layers(x)\n",
        "      \n",
        "      return out\n",
        "\n",
        "\n",
        "class rotationClassificationHead(torch.nn.Module):\n",
        "    \"\"\"rotationClassificationHead  should accept backbone output as an input and output rotation_classification_output tensor of shape  (len(anchors),2) \n",
        "    where the value  chi,j  which is the value of i-th row and j-th column has a property that  sigmoid(chi,j)  \n",
        "    is a probability that i-th anchor from  anchors  overlaps significantly with some canvas GTBox: MnistBox with a digit which was not rotated when  j=0  and was rotated when  j=1 .\"\"\"\n",
        "    def __init__(self, out_size): #out_size = (len(anchors),2) \n",
        "      super().__init__()\n",
        "      self.layers= []\n",
        "      for _ in range(3):\n",
        "        self.layers.append(nn.Conv2d(128, 128, kernel_size=3, stride=1, padding=1))\n",
        "        self.layers.append(nn.ReLU(True))\n",
        "      self.layers.append(nn.Conv2d(128, out_size, kernel_size=3, stride=1, padding=1))\n",
        "      self.layers = nn.Sequential(*self.layers)\n",
        "      \n",
        "\n",
        "    def forward(self,x):\n",
        "      out = self.layers(x)\n",
        "      return out\n",
        "\n",
        "\n",
        "class boxRegressionHead(torch.nn.Module): \n",
        "    \"\"\"boxRegressionHead  should accept backbone output as an input and output box_regression_output tensor of shape  (len(anchors),4) \n",
        "    where the value  bri  which is the value of i-th row has a property that if there is a ground truth digit box  GTBox  - significantly overlapping with  anchor[i]  then the following properties hold:\n",
        "      GTBox.x_min=anchor[i].x_min+bri,0, \n",
        "      GTBox.x_max=anchor[i].x_max+bri,1, \n",
        "      GTBox.y_min=anchor[i].y_min+bri,2, \n",
        "      GTBox.y_max=anchor[i].y_max+bri,3. \n",
        "    Hint: be careful with a construction of a head output as a simple reshaping might cause unexpected permutation of anchors.\"\"\"\n",
        "    def __init__(self, out_size):\n",
        "      super().__init__()\n",
        "      self.layers= []\n",
        "      for _ in range(3):\n",
        "        self.layers.append(nn.Conv2d(128, 128, kernel_size=3, stride=1, padding=1))\n",
        "        self.layers.append(nn.ReLU(True))\n",
        "      self.layers.append(nn.Conv2d(128, out_size, kernel_size=3, stride=1, padding=1))\n",
        "      self.layers = nn.Sequential(*self.layers)\n",
        "\n",
        "    def forward(self,x):\n",
        "      out = self.layers(x)\n",
        "      return out"
      ]
    },
    {
      "cell_type": "code",
      "execution_count": null,
      "metadata": {
        "id": "kXco8riNGHhl"
      },
      "outputs": [],
      "source": [
        "from torch import nn\n",
        "\n",
        "class DigitDetectionModelOutput:\n",
        "\n",
        "    def __init__(\n",
        "        self,\n",
        "        anchors: List[MnistBox],\n",
        "        digit_classification_output: torch.Tensor,\n",
        "        rotation_classification_output: torch.Tensor,\n",
        "        box_regression_output: torch.Tensor,\n",
        "    ):\n",
        "        self.anchors = anchors\n",
        "        self.digit_classification_output = digit_classification_output\n",
        "        self.box_regression_output = box_regression_output\n",
        "        self.rotation_classification_output = rotation_classification_output\n",
        "\n",
        "\n",
        "class Backbone(torch.nn.Module):\n",
        "    def __init__(self):\n",
        "        super().__init__()\n",
        "        self.output_shape = (16, 16, 128)\n",
        "        self.first_block = torch.nn.Sequential(\n",
        "            nn.Conv2d(1, 16, (3, 3), padding=1),\n",
        "            nn.ReLU(),\n",
        "            nn.Conv2d(16, 32, (3, 3), padding=1),\n",
        "            nn.ReLU(),\n",
        "            nn.MaxPool2d(2, 2),\n",
        "        )\n",
        "        self.blocks = torch.nn.ModuleList(\n",
        "            [torch.nn.Sequential(*[\n",
        "                nn.Conv2d(16 * (2 ** i), 16 * (2 ** (i + 1)), (3, 3), padding=1),\n",
        "                nn.ReLU(),\n",
        "                nn.MaxPool2d(2, 2),\n",
        "              ]) for i in range(1, 3)\n",
        "            ]\n",
        "        )\n",
        "\n",
        "    def forward(self, x: MnistCanvas) -> torch.Tensor:\n",
        "        image = torch.Tensor(x.image).to(DEVICE).view(1, 1, 128, 128)\n",
        "        aux = self.first_block(image)\n",
        "        for block in self.blocks:\n",
        "            aux = block(aux)\n",
        "        return aux\n",
        "\n",
        "\n",
        "class DigitDetectionModel(nn.Module):\n",
        "\n",
        "    def __init__(self, anchors):\n",
        "      super(DigitDetectionModel, self).__init__()\n",
        "      self.num_size = int(len(anchors) /256)     # number of anchors for one center\n",
        "      self.num_anchors = 16*16* self.num_size  #number of centers*sizes\n",
        "      self.backbone = Backbone()\n",
        "      self.cla_head = digitClassificationHead(out_size= 5*self.num_size)     # out_size = (len(anchors),5 classes) \n",
        "      self.rot_head = rotationClassificationHead(out_size= 2*self.num_size)  # out_size = (len(anchors),2) \n",
        "      self.box_head = boxRegressionHead(4*self.num_size)           # (len(anchors),4) \n",
        "      self.heads = [self.cla_head, self.rot_head, self.box_head]\n",
        "\n",
        "    def forward(self, x: MnistCanvas, anchors) -> DigitDetectionModelOutput:\n",
        "      bbs = self.backbone(x)\n",
        "      cla = self.cla_head(bbs)\n",
        "      rot = self.rot_head(bbs)\n",
        "      box = self.box_head(bbs)\n",
        "      cla = cla.permute(0,2,3,1)   # batch_size, 16, 16, out_size\n",
        "      cla = cla.reshape(self.num_anchors, 5)\n",
        "      rot = rot.permute(0,2,3,1) \n",
        "      rot = rot.reshape(self.num_anchors, 2)\n",
        "      box = box.permute(0,2,3,1)\n",
        "      box = box.reshape(self.num_anchors, 4)\n",
        "      return DigitDetectionModelOutput(anchors, cla, rot, box) # should be DigitDetectionModelOutput !!! need to keep anchors\n",
        "\n"
      ]
    },
    {
      "cell_type": "markdown",
      "metadata": {
        "id": "EpXjtbEwqA4A"
      },
      "source": [
        "### Targets and predictions"
      ]
    },
    {
      "cell_type": "markdown",
      "metadata": {
        "id": "hnZu3sdhTfTJ"
      },
      "source": [
        "#### Significant overlap (4pt)\n",
        "\n",
        "In order to manage definition of a _significant overlap_ student should implement the `TargetDecoder`. `TargetDecoder` have two methods:\n",
        "\n",
        "#### - `get_targets`\n",
        "\n",
        "This method accepts a `canvas: MnistCanvas` with boxes later refered to as `gt_boxes: List[MnistBox]`, `anchors: List[MnistBox]` of model anchors and `iou_threshold: float`. Its output should be `DigitDetectionModelTarget` instance with the following attributes:\n",
        "\n",
        "- `digit_classification_target` - a tensor of shape $(len(anchors), 5)$,\n",
        "- `rotation_classification_target` - a tensor of shape $(len(anchors), 2)$\n",
        "- `box_regression_target` - a tensor of shape $(len(anchors), 4)$,\n",
        "- `matched_anchors` - a list of indices anchors matched (see definition below).\n",
        "\n",
        "The output attributes should be computed in a following manner: \n",
        "\n",
        "1. All of the outputs of the output tensors should be `0` except the case presented in the point 2.\n",
        "1. if for anchor `anchors[i]` there exist at least one `gt_box` from `gt_boxes` with `iou` overlap greater than `iou_threshold` then let `gt_best` be the one with the greatest `iou` overlap (ties resolved randomly). Then `box_regression_target` should encode the bounding box correction, namely:\n",
        "\n",
        "$$\\texttt{box_regression_target}[i, 0] = \\texttt{gt_best.x_min} - \\texttt{anchor[i].x_min}$$ \n",
        "$$\\texttt{box_regression_target}[i, 1] = \\texttt{gt_best.x_max} - \\texttt{anchor[i].x_max}$$ \n",
        "$$\\texttt{box_regression_target}[i, 2] = \\texttt{gt_best.y_min} - \\texttt{anchor[i].y_min}$$ \n",
        "$$\\texttt{box_regression_target}[i, 3] = \\texttt{gt_best.y_max} - \\texttt{anchor[i].y_max}$$,\n",
        "\n",
        "`digit_classification_target` should encode the class of matched `gt_best`, namely:\n",
        "\n",
        "$$\\texttt{digit_classification_target}[i, \\texttt{gt_best.class_nb} - 1] = 1.$$\n",
        "\n",
        "`rotation_classification_target` should encode if matched `gt_best` has a digit which was rotated, namely:\n",
        "\n",
        "$$\\texttt{rotation_classification_target}[i, 0] = 1,$$\n",
        "\n",
        "if `gt_best` digit was not rotated and:\n",
        "\n",
        "$$\\texttt{rotation_classification_target}[i, 1] = 1,$$\n",
        "\n",
        "if `gt_best` digit was rotated (this might be interpreted as a one-hot encoding if a digit was rotated).\n",
        "\n",
        "Moreover - the `anchor[i]` is considered to be _matched_ with some ground truth box so index `i` should be in `matched_anchors` list.\n",
        "\n",
        "The output should be packed into `DigitDetectionModelTarget` class defined below.\n",
        "\n",
        "_Hint_: note that there might be cases when no anchor is matched. What does it mean about your anchors?\n",
        "\n",
        "#### - `get_predictions`\n",
        "\n",
        "This method should decode the `DigitDetectionModelOutput` to set of final boxes\n",
        "predictions. We leave the way of selecting the predictions to students.\n",
        "\n",
        "_HINT_: we definitely advise to use `torchvision.ops.nms` function.\n",
        "\n"
      ]
    },
    {
      "cell_type": "code",
      "execution_count": null,
      "metadata": {
        "id": "WWcthFZQquNo"
      },
      "outputs": [],
      "source": [
        "from torchvision.ops import box_iou, nms\n",
        "import torch.nn.functional as F\n",
        "\n",
        "\n",
        "class DigitDetectionModelTarget:\n",
        "\n",
        "    def __init__(\n",
        "        self,\n",
        "        digit_classification_target: torch.Tensor,\n",
        "        rotation_classification_target: torch.Tensor,\n",
        "        box_regression_target: torch.Tensor,\n",
        "        matched_anchors: List[int],\n",
        "    ):\n",
        "        self.digit_classification_target = digit_classification_target\n",
        "        self.rotation_classification_target = rotation_classification_target\n",
        "        self.box_regression_target = box_regression_target\n",
        "        self.matched_anchors = matched_anchors\n",
        "\n",
        "\n",
        "\n",
        "class TargetDecoder:\n",
        "\n",
        "    def get_targets(\n",
        "        self,\n",
        "        canvas: MnistCanvas,\n",
        "        anchors: List[MnistBox],\n",
        "        iou_threshold: float=0.2,\n",
        "        nb_of_classes: int = 5,\n",
        "    ) -> DigitDetectionModelTarget:\n",
        "        gt_boxes = canvas.boxes\n",
        "        digit_classification_target, rotation_classification_target, box_regression_target, matched_anchors = self.match_anchors(anchors, gt_boxes, iou_threshold, nb_of_classes)\n",
        "        return DigitDetectionModelTarget(digit_classification_target, rotation_classification_target, box_regression_target, matched_anchors)\n",
        "\n",
        "    def match_anchors(self, anchors, gt_boxes, iou_threshold, nb_of_classes):     \n",
        "        # classes\n",
        "        classes = torch.zeros(len(anchors),5, dtype=torch.int64) # set all boxes to [0,0,0,0,0]\n",
        "        gt_classes = [gt_boxes[i].class_nb - 1 for i in range(len(gt_boxes))]\n",
        "        gt_classes = torch.tensor(gt_classes, dtype=torch.int64)\n",
        "        gt_classes = F.one_hot(gt_classes, num_classes=5)\n",
        "        # rotation\n",
        "        rotation = torch.zeros(len(anchors), 2, dtype=torch.int64)\n",
        "        gt_rotation = torch.Tensor([int(gt_boxes[i].rotated) for i in range(len(gt_boxes))])\n",
        "        gt_rotation = F.one_hot(gt_rotation.to(torch.int64), num_classes=2)\n",
        "        # box regression\n",
        "        box_regression = torch.zeros(len(anchors), 4, dtype=torch.int64)\n",
        "        # matched anchors\n",
        "        matched_anchors = []\n",
        "        for gi, gt_box in enumerate(gt_boxes):\n",
        "            threshold = iou_threshold\n",
        "            max_index = 0\n",
        "            best_box = None\n",
        "            for i, anchor in enumerate(anchors):\n",
        "                iou = gt_box.iou_with(anchor)\n",
        "                if iou > threshold:\n",
        "                    threshold = iou\n",
        "                    best_box = anchor\n",
        "                    max_index = i\n",
        "            classes[max_index] = gt_classes[gi]\n",
        "            rotation[max_index] = gt_rotation[gi]\n",
        "            matched_anchors.append(max_index)\n",
        "            brx_min = gt_box.x_min - anchors[max_index].x_min\n",
        "            brx_max = gt_box.x_max - anchors[max_index].x_max\n",
        "            bry_min = gt_box.y_min - anchors[max_index].y_min\n",
        "            bry_max = gt_box.y_max - anchors[max_index].y_max\n",
        "            regress = torch.tensor([brx_min, brx_max, bry_min, bry_max])\n",
        "            box_regression[max_index] = regress\n",
        "        \n",
        "        return classes, rotation, box_regression, matched_anchors\n",
        "\n",
        "\n",
        "\n",
        "    def get_predictions(\n",
        "        self,\n",
        "        model_output: DigitDetectionModelOutput,\n",
        "    ) -> List[MnistBox]:\n",
        "        \"\"\"This method should decode the DigitDetectionModelOutput to set of final boxes predictions.\n",
        "         We leave the way of selecting the predictions to students.\n",
        "        HINT: we definitely advise to use torchvision.ops.nms function.\"\"\"\n",
        "        # klasy ktore maja najwieksze prawdopodobiensta \n",
        "        class_threshold = 0.21\n",
        "        # nms --\n",
        "        final_boxes = []\n",
        "        boxes = []\n",
        "        m = nn.Sigmoid()\n",
        "        classes_prob = m(model_output.digit_classification_output)\n",
        "        # classes_prob = torch.nn.functional.softmax(model_output.digit_classification_output)\n",
        "        max_digits, class_inds = torch.max(classes_prob, axis=1)\n",
        "        indices = torch.arange(0, len(model_output.anchors))\n",
        "        max_inds_anchors = indices[max_digits > class_threshold]\n",
        "        rotations = model_output.digit_classification_output\n",
        "\n",
        "        # przesuwam o te br cos regresje       \n",
        "        # for digit in [1,2,3,4,5]:\n",
        "        digit_boxes = []\n",
        "        digit_scores = []\n",
        "        digit_rotations = []\n",
        "        digit_classes = []\n",
        "        keep_inds = []\n",
        "        for i, ind in enumerate(max_inds_anchors):\n",
        "            class_nb = model_output.digit_classification_output[ind]\n",
        "            # if class_nb == digit:\n",
        "            anchor = model_output.anchors[ind]\n",
        "            br = model_output.box_regression_output[ind]\n",
        "            rotation = model_output.rotation_classification_output[ind]\n",
        "            x_min = anchor.x_min + br[0]\n",
        "            x_max  = anchor.x_max + br[1]\n",
        "            y_min = anchor.y_min + br[2]\n",
        "            y_max = anchor.y_max + br[3]\n",
        "            box = [x_min, y_min,  x_max, y_max]\n",
        "            digit_classes.append(class_nb)\n",
        "            digit_boxes.append(box)\n",
        "            digit_scores.append(max_digits[i])\n",
        "            digit_rotations.append(rotation)\n",
        "\n",
        "        digit_boxes = torch.tensor(digit_boxes)\n",
        "        digit_scores = torch.tensor(digit_scores)\n",
        "        if len(digit_boxes) > 0:\n",
        "            sign = torch.sign(digit_scores)\n",
        "            # digit_scores =  digit_scores + 10*torch.ones(digit_scores.shape)\n",
        "            keep_inds = torchvision.ops.nms(digit_boxes, digit_scores, iou_threshold=0.1)\n",
        "        for keep in keep_inds:\n",
        "            box = digit_boxes[keep]\n",
        "            rotation = digit_rotations[keep]\n",
        "            rotation = torch.argmax(rotation)\n",
        "            digit = digit_classes[keep]\n",
        "            digit = torch.argmax(digit) + 1\n",
        "            rotation = bool(rotation)\n",
        "            mnist_box = MnistBox(x_min=box[0], x_max=box[2], y_min=box[1], y_max=box[3], class_nb=digit, rotated=rotation)\n",
        "            final_boxes.append(mnist_box)\n",
        "\n",
        "        return final_boxes\n",
        "        \n"
      ]
    },
    {
      "cell_type": "markdown",
      "source": [
        "### Metrics"
      ],
      "metadata": {
        "id": "C-o5xchcnfJ8"
      }
    },
    {
      "cell_type": "markdown",
      "metadata": {
        "id": "xA1Nvz6jagyP"
      },
      "source": [
        "#### Metrics (4pt)\n",
        "\n",
        "## Retina Loss\n",
        "As a loss function one should implement the variant of Retina Loss. It should be computed in a following manner:\n",
        "\n",
        "`compute_loss`: \n",
        "\n",
        "This method accepts:\n",
        "- `DigitDetectionModelTarget`,\n",
        "- `DigitDetectionModelOutput`,\n",
        "\n",
        "and computes a loss which is a sum of a:\n",
        "- `torch.nn.SmoothL1Loss` between boxes predictions and targets averaged only over matched anchors,\n",
        "- `torchvision.ops.sigmoid_focal_loss` between digit predictions and targets,\n",
        "- `torchvision.ops.sigmoid_focal_loss` between rotation predictions and targets,\n",
        "\n",
        "One can either use `torch` default parameters for this losses or try to tune them.\n",
        "\n",
        "If there are no matched anchors - a loss should return `None`. Remember to handle this case separately in your training loop. What does the occurence of this case means about your anchors?\n",
        "\n",
        "## Digit Accuracy\n",
        "\n",
        "This method shoud accept `canvas: MnistCanvas` and `predicted_boxes: List[MnistBox]` obtained using `TargetDecoder.get_predictions` method and output whether there is a direct matching between boxes from `MnistCanvas` and predictions. There is a direct matching if:\n",
        "\n",
        "- for all boxes from `canvas`, there exist precisely one box from `predicted_boxes` with a matching class  and `iou` overlap greater than `0.5`,\n",
        "- the number of `canvas` boxes match `len(predicted_boxes)`.\n",
        "\n",
        "The model shoud output `1` if there is a matching and `0` otherwise.\n"
      ]
    },
    {
      "cell_type": "code",
      "execution_count": null,
      "metadata": {
        "id": "rffXn9CQwVu4"
      },
      "outputs": [],
      "source": [
        "import torch\n",
        "import torchvision \n",
        "import torch.nn.functional as F\n",
        "\n",
        "\n",
        "class RetinaLoss(nn.Module):\n",
        "\n",
        "    def __init__(self, num_classes=5):\n",
        "        super(RetinaLoss, self).__init__()\n",
        "        self.num_classes = num_classes\n",
        "\n",
        "    def compute_loss(\n",
        "        self,\n",
        "        model_output: DigitDetectionModelOutput,\n",
        "        model_target: DigitDetectionModelTarget,\n",
        "    ) -> Optional[torch.Tensor]:\n",
        "\n",
        "        \"\"\"computes a loss which is a sum of a:\n",
        "        torch.nn.SmoothL1Loss between boxes predictions and targets averaged only over matched anchors,\n",
        "        torchvision.ops.sigmoid_focal_loss between digit predictions and targets,\n",
        "        torchvision.ops.sigmoid_focal_loss between rotation predictions and targets,\n",
        "        \"\"\"\n",
        "        # alpha = 0.25\n",
        "        # gamma = 2\n",
        "        inds = model_target.matched_anchors\n",
        "        # box loss params\n",
        "        box_target = model_target.box_regression_target[inds]\n",
        "        box_output = model_output.box_regression_output[inds]\n",
        "        smooth_loss = torch.nn.SmoothL1Loss()\n",
        "        box_loss = smooth_loss(box_output, box_target)\n",
        "        # digit loss params\n",
        "        digit_loss = torchvision.ops.sigmoid_focal_loss(model_output.digit_classification_output, model_target.digit_classification_target.to(torch.float))\n",
        "        rotation_loss = torchvision.ops.sigmoid_focal_loss(model_output.rotation_classification_output, model_target.rotation_classification_target.to(torch.float))\n",
        "        # loss = box_loss + digit_loss + rotation_loss\n",
        "        loss = box_loss + torch.sum(digit_loss) + torch.sum(rotation_loss)\n",
        "        return loss\n",
        "\n",
        "\n",
        "\n",
        "class DigitAccuracy:\n",
        " \n",
        "    def compute_metric  (\n",
        "        self,\n",
        "        predicted_boxes: List[MnistBox],\n",
        "        canvas: MnistCanvas,\n",
        "    ):\n",
        "        gt_boxes = canvas.boxes\n",
        "        if len(gt_boxes) != len(predicted_boxes):\n",
        "            return 0\n",
        "        acc = 0\n",
        "        for i, gt_box in enumerate(gt_boxes):\n",
        "            for box in predicted_boxes:\n",
        "                if box.iou_with(gt_box) >= 0.5: \n",
        "                    if box.class_nb == gt_box.class_nb: # check iou\n",
        "                        if box.rotated == gt_box.rotated: # check rotation\n",
        "                            acc += 1\n",
        "                #         else: print('bad rotation')\n",
        "                #     else: print('Wrong class')    \n",
        "                # else: print(box.iou_with(gt_box))            \n",
        "        if acc == len(gt_boxes):\n",
        "            return 1\n",
        "        else: return  0"
      ]
    },
    {
      "cell_type": "markdown",
      "metadata": {
        "id": "15n5w-hhvRbS"
      },
      "source": [
        "### Train your model (4pt)\n",
        "\n",
        "One should use all classes defined above to train the model.\n",
        "\n",
        "A passing threshold is `10%` of a `DigitAccuracy` on a `TEST_CANVAS` data.\n",
        "\n",
        "Plot example results of matched and mismatched predictions (2pt).\n",
        "\n",
        "**Hint:** Training can take a while to achieve the expected accuracy. It is normal that for many epochs at the beginning accuracy is constantly $0$. Do not worry as long as the loss is on average decreasing across epochs.\n",
        "\n",
        "Have fun!"
      ]
    },
    {
      "cell_type": "markdown",
      "metadata": {
        "id": "hM2B_58dpNwx"
      },
      "source": [
        "#### Sets and anchors"
      ]
    },
    {
      "cell_type": "markdown",
      "metadata": {
        "id": "BAgAxGoZ_XJ6"
      },
      "source": [
        "## TRAIN MODEL"
      ]
    },
    {
      "cell_type": "code",
      "source": [
        "def test(net, TEST_CANVAS=TEST_CANVAS):\n",
        "    target_decoder = TargetDecoder()\n",
        "    DACCS = []\n",
        "    for example in TEST_CANVAS:    \n",
        "        target = target_decoder.get_targets(example, anchors)\n",
        "        net_output = net.forward(example, anchors)\n",
        "        preds = target_decoder.get_predictions(net_output)\n",
        "        dacc = digit_accuracy.compute_metric(preds, example)\n",
        "        DACCS.append(dacc)\n",
        "    acc = np.array(DACCS)\n",
        "    accurate = sum(acc)\n",
        "    ACC = accurate/len(acc)\n",
        "    return ACC, DACCS"
      ],
      "metadata": {
        "id": "MEYhlYfvPFn-"
      },
      "execution_count": null,
      "outputs": []
    },
    {
      "cell_type": "code",
      "execution_count": null,
      "metadata": {
        "id": "KHbBinX23PNF"
      },
      "outputs": [],
      "source": [
        "## TRAIN A MODEL"
      ]
    },
    {
      "cell_type": "code",
      "execution_count": null,
      "metadata": {
        "colab": {
          "base_uri": "https://localhost:8080/",
          "height": 1000
        },
        "id": "IY82_ZYt3Rlx",
        "outputId": "c65d812e-13c0-419f-8f12-7fdff242b8a2"
      },
      "outputs": [
        {
          "output_type": "stream",
          "name": "stdout",
          "text": [
            "Number of anchors 3072\n",
            "Example number: 101 , Loss: 7.72116231918335\n",
            "No box selected\n",
            "Example number: 201 , Loss: 6.174076080322266\n",
            "No box selected\n",
            "Example number: 301 , Loss: 4.749958038330078\n",
            "No box selected\n",
            "Example number: 401 , Loss: 7.627176284790039\n",
            "DIGIT ACCURACY: 0\n",
            "Example number: 501 , Loss: 6.330646514892578\n",
            "DIGIT ACCURACY: 0\n",
            "Example number: 601 , Loss: 4.216523170471191\n",
            "No box selected\n",
            "Example number: 701 , Loss: 4.189319610595703\n",
            "DIGIT ACCURACY: 0\n",
            "Example number: 801 , Loss: 5.524035453796387\n",
            "DIGIT ACCURACY: 0\n",
            "Example number: 901 , Loss: 4.459214687347412\n",
            "DIGIT ACCURACY: 0\n",
            "Example number: 1001 , Loss: 7.025193214416504\n",
            "DIGIT ACCURACY: 0\n",
            "BOX ACCURACY: 0.00390625\n",
            "Example number: 1101 , Loss: 6.514925003051758\n",
            "DIGIT ACCURACY: 0\n",
            "Example number: 1201 , Loss: 3.7541093826293945\n",
            "DIGIT ACCURACY: 0\n",
            "Example number: 1301 , Loss: 3.64451265335083\n",
            "DIGIT ACCURACY: 0\n",
            "Example number: 1401 , Loss: 6.7929887771606445\n",
            "DIGIT ACCURACY: 0\n",
            "Example number: 1501 , Loss: 7.183963775634766\n",
            "DIGIT ACCURACY: 0\n",
            "Example number: 1601 , Loss: 2.9513611793518066\n",
            "DIGIT ACCURACY: 0\n",
            "Example number: 1701 , Loss: 4.402058124542236\n",
            "DIGIT ACCURACY: 0\n",
            "Example number: 1801 , Loss: 2.5868234634399414\n",
            "DIGIT ACCURACY: 0\n",
            "Example number: 1901 , Loss: 4.67830753326416\n",
            "DIGIT ACCURACY: 0\n",
            "Example number: 2001 , Loss: 5.4696946144104\n",
            "DIGIT ACCURACY: 0\n",
            "BOX ACCURACY: 0.0\n",
            "Example number: 2101 , Loss: 4.805350303649902\n",
            "DIGIT ACCURACY: 0\n",
            "Example number: 2201 , Loss: 4.492119789123535\n",
            "DIGIT ACCURACY: 0\n",
            "Example number: 2301 , Loss: 6.365006446838379\n",
            "DIGIT ACCURACY: 0\n",
            "Example number: 2401 , Loss: 3.7062954902648926\n",
            "DIGIT ACCURACY: 0\n",
            "Example number: 2501 , Loss: 3.9172191619873047\n",
            "DIGIT ACCURACY: 0\n",
            "Example number: 2601 , Loss: 6.7430644035339355\n",
            "DIGIT ACCURACY: 0\n",
            "Example number: 2701 , Loss: 5.046269416809082\n",
            "DIGIT ACCURACY: 0\n",
            "Example number: 2801 , Loss: 5.561582565307617\n",
            "DIGIT ACCURACY: 0\n",
            "Example number: 2901 , Loss: 3.7953269481658936\n",
            "DIGIT ACCURACY: 0\n",
            "Example number: 3001 , Loss: 3.95013689994812\n",
            "DIGIT ACCURACY: 0\n",
            "BOX ACCURACY: 0.00390625\n",
            "Example number: 3101 , Loss: 5.541348457336426\n",
            "DIGIT ACCURACY: 0\n",
            "Example number: 3201 , Loss: 5.4872541427612305\n",
            "DIGIT ACCURACY: 0\n",
            "Example number: 3301 , Loss: 4.306467533111572\n",
            "DIGIT ACCURACY: 0\n",
            "Example number: 3401 , Loss: 3.938267707824707\n",
            "DIGIT ACCURACY: 0\n",
            "Example number: 3501 , Loss: 2.6320509910583496\n",
            "DIGIT ACCURACY: 0\n",
            "Example number: 3601 , Loss: 2.703291893005371\n",
            "DIGIT ACCURACY: 0\n",
            "Example number: 3701 , Loss: 2.1174678802490234\n",
            "DIGIT ACCURACY: 0\n",
            "Example number: 3801 , Loss: 2.718129873275757\n",
            "DIGIT ACCURACY: 0\n",
            "Example number: 3901 , Loss: 3.5792953968048096\n",
            "DIGIT ACCURACY: 0\n",
            "Example number: 4001 , Loss: 3.609353542327881\n",
            "DIGIT ACCURACY: 0\n",
            "BOX ACCURACY: 0.03125\n",
            "Example number: 4101 , Loss: 3.1486568450927734\n",
            "DIGIT ACCURACY: 0\n",
            "Example number: 4201 , Loss: 6.622450828552246\n",
            "DIGIT ACCURACY: 0\n",
            "Example number: 4301 , Loss: 4.092916488647461\n",
            "DIGIT ACCURACY: 0\n",
            "Example number: 4401 , Loss: 2.1453421115875244\n",
            "DIGIT ACCURACY: 0\n",
            "Example number: 4501 , Loss: 3.242898941040039\n",
            "DIGIT ACCURACY: 0\n",
            "Example number: 4601 , Loss: 3.771193027496338\n",
            "DIGIT ACCURACY: 0\n",
            "Example number: 4701 , Loss: 5.227481842041016\n",
            "DIGIT ACCURACY: 0\n",
            "Example number: 4801 , Loss: 1.6315429210662842\n",
            "DIGIT ACCURACY: 1\n",
            "Example number: 4901 , Loss: 3.371363878250122\n",
            "DIGIT ACCURACY: 0\n",
            "Example number: 5001 , Loss: 5.369108200073242\n",
            "DIGIT ACCURACY: 0\n",
            "BOX ACCURACY: 0.046875\n",
            "Example number: 5101 , Loss: 3.445281982421875\n",
            "DIGIT ACCURACY: 0\n",
            "Example number: 5201 , Loss: 3.6419577598571777\n",
            "DIGIT ACCURACY: 0\n",
            "Example number: 5301 , Loss: 2.867525577545166\n",
            "DIGIT ACCURACY: 0\n",
            "Example number: 5401 , Loss: 4.831923961639404\n",
            "DIGIT ACCURACY: 0\n",
            "Example number: 5501 , Loss: 2.3629868030548096\n",
            "DIGIT ACCURACY: 1\n",
            "Example number: 5601 , Loss: 3.343970775604248\n",
            "DIGIT ACCURACY: 0\n",
            "Example number: 5701 , Loss: 3.8291096687316895\n",
            "DIGIT ACCURACY: 0\n",
            "Example number: 5801 , Loss: 2.5865769386291504\n",
            "DIGIT ACCURACY: 1\n",
            "Example number: 5901 , Loss: 4.374096393585205\n",
            "DIGIT ACCURACY: 0\n",
            "Example number: 6001 , Loss: 3.645118236541748\n",
            "DIGIT ACCURACY: 0\n",
            "BOX ACCURACY: 0.0625\n",
            "Example number: 6101 , Loss: 3.1498444080352783\n",
            "DIGIT ACCURACY: 0\n",
            "Example number: 6201 , Loss: 4.0920729637146\n",
            "DIGIT ACCURACY: 0\n",
            "Example number: 6301 , Loss: 5.07833194732666\n",
            "DIGIT ACCURACY: 0\n",
            "Example number: 6401 , Loss: 2.696627378463745\n",
            "DIGIT ACCURACY: 0\n",
            "Example number: 6501 , Loss: 3.9815924167633057\n",
            "DIGIT ACCURACY: 0\n",
            "Example number: 6601 , Loss: 2.4145236015319824\n",
            "DIGIT ACCURACY: 0\n",
            "Example number: 6701 , Loss: 3.1217188835144043\n",
            "DIGIT ACCURACY: 0\n",
            "Example number: 6801 , Loss: 4.126629829406738\n",
            "DIGIT ACCURACY: 0\n",
            "Example number: 6901 , Loss: 3.902538299560547\n",
            "DIGIT ACCURACY: 0\n",
            "Example number: 7001 , Loss: 2.560680866241455\n",
            "DIGIT ACCURACY: 0\n",
            "BOX ACCURACY: 0.04296875\n",
            "Example number: 7101 , Loss: 6.32966423034668\n",
            "DIGIT ACCURACY: 0\n",
            "Example number: 7201 , Loss: 3.15200138092041\n",
            "DIGIT ACCURACY: 0\n",
            "Example number: 7301 , Loss: 2.3790576457977295\n",
            "DIGIT ACCURACY: 0\n",
            "Example number: 7401 , Loss: 2.891960620880127\n",
            "DIGIT ACCURACY: 0\n",
            "Example number: 7501 , Loss: 3.4565067291259766\n",
            "DIGIT ACCURACY: 0\n",
            "Example number: 7601 , Loss: 1.9105170965194702\n",
            "DIGIT ACCURACY: 0\n",
            "Example number: 7701 , Loss: 2.211848020553589\n",
            "DIGIT ACCURACY: 0\n",
            "Example number: 7801 , Loss: 3.0975279808044434\n",
            "DIGIT ACCURACY: 0\n",
            "Example number: 7901 , Loss: 2.184967279434204\n",
            "DIGIT ACCURACY: 1\n",
            "Example number: 8001 , Loss: 3.667703628540039\n",
            "DIGIT ACCURACY: 0\n",
            "BOX ACCURACY: 0.0703125\n",
            "Example number: 8101 , Loss: 3.3750510215759277\n",
            "DIGIT ACCURACY: 1\n",
            "Example number: 8201 , Loss: 1.4959332942962646\n",
            "DIGIT ACCURACY: 0\n",
            "Example number: 8301 , Loss: 3.2897446155548096\n",
            "DIGIT ACCURACY: 1\n",
            "Example number: 8401 , Loss: 4.504796028137207\n",
            "DIGIT ACCURACY: 0\n",
            "Example number: 8501 , Loss: 4.080106735229492\n",
            "DIGIT ACCURACY: 0\n",
            "Example number: 8601 , Loss: 1.1558175086975098\n",
            "DIGIT ACCURACY: 1\n",
            "Example number: 8701 , Loss: 3.2947487831115723\n",
            "DIGIT ACCURACY: 1\n",
            "Example number: 8801 , Loss: 2.269120454788208\n",
            "DIGIT ACCURACY: 1\n",
            "Example number: 8901 , Loss: 3.204137086868286\n",
            "DIGIT ACCURACY: 0\n",
            "Example number: 9001 , Loss: 2.102454662322998\n",
            "DIGIT ACCURACY: 0\n",
            "BOX ACCURACY: 0.08203125\n",
            "Example number: 9101 , Loss: 3.0893211364746094\n",
            "DIGIT ACCURACY: 0\n",
            "Example number: 9201 , Loss: 1.238621473312378\n",
            "DIGIT ACCURACY: 1\n",
            "Example number: 9301 , Loss: 1.600916862487793\n",
            "DIGIT ACCURACY: 0\n",
            "Example number: 9401 , Loss: 3.313926935195923\n",
            "DIGIT ACCURACY: 0\n",
            "Example number: 9501 , Loss: 3.9237020015716553\n",
            "DIGIT ACCURACY: 0\n",
            "Example number: 9601 , Loss: 2.5842721462249756\n",
            "DIGIT ACCURACY: 0\n",
            "Example number: 9701 , Loss: 21.99170684814453\n",
            "DIGIT ACCURACY: 0\n",
            "Example number: 9801 , Loss: 2.292172908782959\n",
            "DIGIT ACCURACY: 0\n",
            "Example number: 9901 , Loss: 4.955885410308838\n",
            "DIGIT ACCURACY: 0\n",
            "Example number: 10001 , Loss: 1.907212734222412\n",
            "DIGIT ACCURACY: 0\n",
            "BOX ACCURACY: 0.16796875\n",
            "Example number: 10101 , Loss: 3.821964740753174\n",
            "DIGIT ACCURACY: 0\n",
            "Example number: 10201 , Loss: 2.068573474884033\n",
            "DIGIT ACCURACY: 0\n",
            "Example number: 10301 , Loss: 2.283858060836792\n",
            "DIGIT ACCURACY: 0\n",
            "Example number: 10401 , Loss: 1.9791462421417236\n",
            "DIGIT ACCURACY: 0\n",
            "Example number: 10501 , Loss: 2.333603620529175\n",
            "DIGIT ACCURACY: 0\n",
            "Example number: 10601 , Loss: 3.025991201400757\n",
            "DIGIT ACCURACY: 0\n",
            "Example number: 10701 , Loss: 2.5914344787597656\n",
            "DIGIT ACCURACY: 0\n",
            "Example number: 10801 , Loss: 2.641702651977539\n",
            "DIGIT ACCURACY: 0\n",
            "Example number: 10901 , Loss: 2.2991743087768555\n",
            "DIGIT ACCURACY: 0\n",
            "Example number: 11001 , Loss: 2.1105988025665283\n",
            "DIGIT ACCURACY: 0\n",
            "BOX ACCURACY: 0.14453125\n",
            "Example number: 11101 , Loss: 3.065725803375244\n",
            "DIGIT ACCURACY: 0\n",
            "Example number: 11201 , Loss: 3.5921082496643066\n",
            "DIGIT ACCURACY: 0\n",
            "Example number: 11301 , Loss: 2.458723306655884\n",
            "DIGIT ACCURACY: 0\n",
            "Example number: 11401 , Loss: 2.5567214488983154\n",
            "DIGIT ACCURACY: 0\n",
            "Example number: 11501 , Loss: 2.0336837768554688\n",
            "DIGIT ACCURACY: 0\n",
            "Example number: 11601 , Loss: 1.5390675067901611\n",
            "DIGIT ACCURACY: 1\n",
            "Example number: 11701 , Loss: 3.6528868675231934\n",
            "DIGIT ACCURACY: 0\n",
            "Example number: 11801 , Loss: 1.9955658912658691\n",
            "DIGIT ACCURACY: 0\n",
            "Example number: 11901 , Loss: 2.702174186706543\n",
            "DIGIT ACCURACY: 1\n",
            "Example number: 12001 , Loss: 1.4835097789764404\n",
            "DIGIT ACCURACY: 1\n",
            "BOX ACCURACY: 0.1171875\n",
            "Example number: 12101 , Loss: 3.218311309814453\n",
            "DIGIT ACCURACY: 0\n",
            "Example number: 12201 , Loss: 3.0316367149353027\n",
            "DIGIT ACCURACY: 1\n",
            "Example number: 12301 , Loss: 1.5328643321990967\n",
            "DIGIT ACCURACY: 0\n",
            "Example number: 12401 , Loss: 2.4626641273498535\n",
            "DIGIT ACCURACY: 0\n",
            "Example number: 12501 , Loss: 2.765587091445923\n",
            "DIGIT ACCURACY: 0\n",
            "Example number: 12601 , Loss: 2.1559934616088867\n",
            "DIGIT ACCURACY: 1\n",
            "Example number: 12701 , Loss: 3.4419777393341064\n",
            "DIGIT ACCURACY: 0\n",
            "Example number: 12801 , Loss: 2.338284969329834\n",
            "DIGIT ACCURACY: 0\n",
            "Example number: 12901 , Loss: 1.845026969909668\n",
            "DIGIT ACCURACY: 1\n",
            "Example number: 13001 , Loss: 1.1905078887939453\n",
            "DIGIT ACCURACY: 1\n",
            "BOX ACCURACY: 0.2109375\n",
            "Example number: 13101 , Loss: 2.4249777793884277\n",
            "DIGIT ACCURACY: 1\n",
            "Example number: 13201 , Loss: 2.0052340030670166\n",
            "DIGIT ACCURACY: 0\n",
            "Example number: 13301 , Loss: 2.6093997955322266\n",
            "DIGIT ACCURACY: 0\n",
            "Example number: 13401 , Loss: 1.426346778869629\n",
            "DIGIT ACCURACY: 1\n",
            "Example number: 13501 , Loss: 1.3658311367034912\n",
            "DIGIT ACCURACY: 0\n",
            "Example number: 13601 , Loss: 3.14681339263916\n",
            "DIGIT ACCURACY: 0\n",
            "Example number: 13701 , Loss: 0.9305981397628784\n",
            "DIGIT ACCURACY: 1\n",
            "Example number: 13801 , Loss: 3.3878142833709717\n",
            "DIGIT ACCURACY: 0\n",
            "Example number: 13901 , Loss: 2.1873116493225098\n",
            "DIGIT ACCURACY: 1\n",
            "Example number: 14001 , Loss: 1.4252688884735107\n",
            "DIGIT ACCURACY: 0\n",
            "BOX ACCURACY: 0.16015625\n",
            "Example number: 14101 , Loss: 1.593627691268921\n",
            "DIGIT ACCURACY: 0\n",
            "Example number: 14201 , Loss: 1.4213993549346924\n",
            "DIGIT ACCURACY: 1\n",
            "Example number: 14301 , Loss: 2.100968837738037\n",
            "DIGIT ACCURACY: 0\n",
            "Example number: 14401 , Loss: 1.9960663318634033\n",
            "DIGIT ACCURACY: 0\n",
            "Example number: 14501 , Loss: 2.981781482696533\n",
            "DIGIT ACCURACY: 0\n",
            "Example number: 14601 , Loss: 3.4640634059906006\n",
            "DIGIT ACCURACY: 0\n",
            "Example number: 14701 , Loss: 2.51728892326355\n",
            "DIGIT ACCURACY: 0\n",
            "Example number: 14801 , Loss: 2.99812650680542\n",
            "DIGIT ACCURACY: 0\n",
            "Example number: 14901 , Loss: 4.055302619934082\n",
            "DIGIT ACCURACY: 0\n",
            "Example number: 15001 , Loss: 2.170074462890625\n",
            "DIGIT ACCURACY: 0\n",
            "BOX ACCURACY: 0.2265625\n",
            "Example number: 15101 , Loss: 3.003049373626709\n",
            "DIGIT ACCURACY: 0\n",
            "Example number: 15201 , Loss: 2.8661630153656006\n",
            "DIGIT ACCURACY: 0\n",
            "Example number: 15301 , Loss: 1.6895616054534912\n",
            "DIGIT ACCURACY: 0\n",
            "Example number: 15401 , Loss: 2.4644482135772705\n",
            "DIGIT ACCURACY: 0\n",
            "Example number: 15501 , Loss: 3.8892934322357178\n",
            "DIGIT ACCURACY: 0\n",
            "Example number: 15601 , Loss: 2.5775599479675293\n",
            "DIGIT ACCURACY: 1\n",
            "Example number: 15701 , Loss: 3.690451145172119\n",
            "DIGIT ACCURACY: 0\n",
            "Example number: 15801 , Loss: 2.041602611541748\n",
            "DIGIT ACCURACY: 0\n",
            "Example number: 15901 , Loss: 4.508245468139648\n",
            "DIGIT ACCURACY: 0\n",
            "Example number: 16001 , Loss: 2.300173044204712\n",
            "DIGIT ACCURACY: 0\n",
            "BOX ACCURACY: 0.23828125\n",
            "Example number: 16101 , Loss: 2.0318708419799805\n",
            "DIGIT ACCURACY: 0\n",
            "Example number: 16201 , Loss: 1.9823660850524902\n",
            "DIGIT ACCURACY: 1\n",
            "Example number: 16301 , Loss: 2.196866989135742\n",
            "DIGIT ACCURACY: 0\n",
            "Example number: 16401 , Loss: 4.3497443199157715\n",
            "DIGIT ACCURACY: 0\n",
            "Example number: 16501 , Loss: 2.1377694606781006\n",
            "DIGIT ACCURACY: 0\n",
            "Example number: 16601 , Loss: 2.6996865272521973\n",
            "DIGIT ACCURACY: 0\n",
            "Example number: 16701 , Loss: 1.4118924140930176\n",
            "DIGIT ACCURACY: 0\n",
            "Example number: 16801 , Loss: 1.9203526973724365\n",
            "DIGIT ACCURACY: 0\n",
            "Example number: 16901 , Loss: 1.5132861137390137\n",
            "DIGIT ACCURACY: 1\n",
            "Example number: 17001 , Loss: 1.458963394165039\n",
            "DIGIT ACCURACY: 1\n",
            "BOX ACCURACY: 0.17578125\n",
            "Example number: 17101 , Loss: 4.0389909744262695\n",
            "DIGIT ACCURACY: 0\n",
            "Example number: 17201 , Loss: 3.318572521209717\n",
            "DIGIT ACCURACY: 0\n",
            "Example number: 17301 , Loss: 3.331899404525757\n",
            "DIGIT ACCURACY: 0\n",
            "Example number: 17401 , Loss: 2.3495895862579346\n",
            "DIGIT ACCURACY: 1\n",
            "Example number: 17501 , Loss: 3.2290048599243164\n",
            "DIGIT ACCURACY: 0\n",
            "Example number: 17601 , Loss: 1.2898681163787842\n",
            "DIGIT ACCURACY: 1\n",
            "Example number: 17701 , Loss: 2.887032985687256\n",
            "DIGIT ACCURACY: 0\n",
            "Example number: 17801 , Loss: 3.5087597370147705\n",
            "DIGIT ACCURACY: 0\n",
            "Example number: 17901 , Loss: 1.3125526905059814\n",
            "DIGIT ACCURACY: 1\n",
            "Example number: 18001 , Loss: 1.0331225395202637\n",
            "DIGIT ACCURACY: 0\n",
            "BOX ACCURACY: 0.296875\n",
            "Example number: 18101 , Loss: 4.25075626373291\n",
            "DIGIT ACCURACY: 0\n",
            "Example number: 18201 , Loss: 2.2798595428466797\n",
            "DIGIT ACCURACY: 1\n",
            "Example number: 18301 , Loss: 5.089413642883301\n",
            "DIGIT ACCURACY: 0\n",
            "Example number: 18401 , Loss: 2.5580224990844727\n",
            "DIGIT ACCURACY: 1\n",
            "Example number: 18501 , Loss: 2.6518406867980957\n",
            "DIGIT ACCURACY: 0\n",
            "Example number: 18601 , Loss: 1.816234827041626\n",
            "DIGIT ACCURACY: 0\n",
            "Example number: 18701 , Loss: 1.2562134265899658\n",
            "DIGIT ACCURACY: 0\n",
            "Example number: 18801 , Loss: 2.9569778442382812\n",
            "DIGIT ACCURACY: 1\n",
            "Example number: 18901 , Loss: 3.1302578449249268\n",
            "DIGIT ACCURACY: 0\n",
            "Example number: 19001 , Loss: 2.439204216003418\n",
            "DIGIT ACCURACY: 0\n",
            "BOX ACCURACY: 0.29296875\n",
            "Example number: 19101 , Loss: 2.258237600326538\n",
            "DIGIT ACCURACY: 0\n",
            "Example number: 19201 , Loss: 1.799109935760498\n",
            "DIGIT ACCURACY: 0\n",
            "Example number: 19301 , Loss: 1.5122253894805908\n",
            "DIGIT ACCURACY: 1\n",
            "Example number: 19401 , Loss: 2.541456460952759\n",
            "DIGIT ACCURACY: 0\n",
            "Example number: 19501 , Loss: 2.614607810974121\n",
            "DIGIT ACCURACY: 0\n",
            "Example number: 19601 , Loss: 1.6154381036758423\n",
            "DIGIT ACCURACY: 0\n",
            "Example number: 19701 , Loss: 0.8908525109291077\n",
            "DIGIT ACCURACY: 1\n",
            "Example number: 19801 , Loss: 1.5792617797851562\n",
            "DIGIT ACCURACY: 0\n",
            "Example number: 19901 , Loss: 2.4745283126831055\n",
            "DIGIT ACCURACY: 0\n",
            "Example number: 20001 , Loss: 2.61814284324646\n",
            "DIGIT ACCURACY: 0\n",
            "BOX ACCURACY: 0.28125\n",
            "Example number: 20101 , Loss: 2.261751890182495\n",
            "DIGIT ACCURACY: 0\n",
            "Example number: 20201 , Loss: 1.3129593133926392\n",
            "DIGIT ACCURACY: 1\n",
            "Example number: 20301 , Loss: 1.6546814441680908\n",
            "DIGIT ACCURACY: 0\n",
            "Example number: 20401 , Loss: 0.9531194567680359\n",
            "DIGIT ACCURACY: 1\n",
            "Example number: 20501 , Loss: 1.8942822217941284\n",
            "DIGIT ACCURACY: 0\n",
            "Example number: 20601 , Loss: 2.2555480003356934\n",
            "DIGIT ACCURACY: 0\n",
            "Example number: 20701 , Loss: 2.843179941177368\n",
            "DIGIT ACCURACY: 0\n",
            "Example number: 20801 , Loss: 2.128880262374878\n",
            "DIGIT ACCURACY: 1\n",
            "Example number: 20901 , Loss: 3.1007962226867676\n",
            "DIGIT ACCURACY: 0\n",
            "Example number: 21001 , Loss: 1.1677064895629883\n",
            "DIGIT ACCURACY: 1\n",
            "BOX ACCURACY: 0.28125\n",
            "Example number: 21101 , Loss: 1.7402371168136597\n",
            "DIGIT ACCURACY: 1\n",
            "Example number: 21201 , Loss: 1.117550015449524\n",
            "DIGIT ACCURACY: 1\n",
            "Example number: 21301 , Loss: 1.5111072063446045\n",
            "DIGIT ACCURACY: 1\n",
            "Example number: 21401 , Loss: 1.9318594932556152\n",
            "DIGIT ACCURACY: 0\n",
            "Example number: 21501 , Loss: 1.4772815704345703\n",
            "DIGIT ACCURACY: 1\n",
            "Example number: 21601 , Loss: 2.272181510925293\n",
            "DIGIT ACCURACY: 1\n",
            "Example number: 21701 , Loss: 2.825523853302002\n",
            "DIGIT ACCURACY: 0\n",
            "Example number: 21801 , Loss: 0.8785260915756226\n",
            "DIGIT ACCURACY: 1\n",
            "Example number: 21901 , Loss: 3.105956554412842\n",
            "DIGIT ACCURACY: 0\n",
            "Example number: 22001 , Loss: 1.4848048686981201\n",
            "DIGIT ACCURACY: 0\n",
            "BOX ACCURACY: 0.37109375\n",
            "Example number: 22101 , Loss: 1.850411295890808\n",
            "DIGIT ACCURACY: 1\n",
            "Example number: 22201 , Loss: 2.0492992401123047\n",
            "DIGIT ACCURACY: 1\n",
            "Example number: 22301 , Loss: 1.100785732269287\n",
            "DIGIT ACCURACY: 0\n",
            "Example number: 22401 , Loss: 1.6660234928131104\n",
            "DIGIT ACCURACY: 1\n",
            "Example number: 22501 , Loss: 2.4830150604248047\n",
            "DIGIT ACCURACY: 0\n",
            "Example number: 22601 , Loss: 3.18290376663208\n",
            "DIGIT ACCURACY: 0\n",
            "Example number: 22701 , Loss: 3.0713186264038086\n",
            "DIGIT ACCURACY: 0\n",
            "Example number: 22801 , Loss: 2.2847721576690674\n",
            "DIGIT ACCURACY: 0\n",
            "Example number: 22901 , Loss: 1.4379732608795166\n",
            "DIGIT ACCURACY: 1\n",
            "Example number: 23001 , Loss: 1.8093674182891846\n",
            "DIGIT ACCURACY: 1\n",
            "BOX ACCURACY: 0.3203125\n",
            "Example number: 23101 , Loss: 0.9288806319236755\n",
            "DIGIT ACCURACY: 1\n",
            "Example number: 23201 , Loss: 1.9672486782073975\n",
            "DIGIT ACCURACY: 0\n",
            "Example number: 23301 , Loss: 1.1832913160324097\n",
            "DIGIT ACCURACY: 1\n",
            "Example number: 23401 , Loss: 3.3828413486480713\n",
            "DIGIT ACCURACY: 0\n",
            "Example number: 23501 , Loss: 2.4782543182373047\n",
            "DIGIT ACCURACY: 1\n",
            "Example number: 23601 , Loss: 2.568714141845703\n",
            "DIGIT ACCURACY: 0\n",
            "Example number: 23701 , Loss: 2.2249503135681152\n",
            "DIGIT ACCURACY: 1\n",
            "Example number: 23801 , Loss: 1.0678397417068481\n",
            "DIGIT ACCURACY: 1\n",
            "Example number: 23901 , Loss: 0.877538800239563\n",
            "DIGIT ACCURACY: 1\n",
            "Example number: 24001 , Loss: 3.2363698482513428\n",
            "DIGIT ACCURACY: 0\n",
            "BOX ACCURACY: 0.36328125\n",
            "Example number: 24101 , Loss: 1.1022998094558716\n",
            "DIGIT ACCURACY: 1\n",
            "Example number: 24201 , Loss: 2.3850605487823486\n",
            "DIGIT ACCURACY: 0\n",
            "Example number: 24301 , Loss: 2.5927236080169678\n",
            "DIGIT ACCURACY: 0\n"
          ]
        },
        {
          "output_type": "error",
          "ename": "KeyboardInterrupt",
          "evalue": "ignored",
          "traceback": [
            "\u001b[0;31m---------------------------------------------------------------------------\u001b[0m",
            "\u001b[0;31mKeyboardInterrupt\u001b[0m                         Traceback (most recent call last)",
            "\u001b[0;32m<ipython-input-61-3eadab2ea169>\u001b[0m in \u001b[0;36m<module>\u001b[0;34m()\u001b[0m\n\u001b[1;32m     26\u001b[0m     \u001b[0mnet\u001b[0m\u001b[0;34m.\u001b[0m\u001b[0mtrain\u001b[0m\u001b[0;34m(\u001b[0m\u001b[0;34m)\u001b[0m\u001b[0;34m\u001b[0m\u001b[0;34m\u001b[0m\u001b[0m\n\u001b[1;32m     27\u001b[0m     \u001b[0mexample\u001b[0m \u001b[0;34m=\u001b[0m \u001b[0mget_random_canvas\u001b[0m\u001b[0;34m(\u001b[0m\u001b[0;34m)\u001b[0m\u001b[0;34m\u001b[0m\u001b[0;34m\u001b[0m\u001b[0m\n\u001b[0;32m---> 28\u001b[0;31m     \u001b[0mtarget\u001b[0m \u001b[0;34m=\u001b[0m \u001b[0mtarget_decoder\u001b[0m\u001b[0;34m.\u001b[0m\u001b[0mget_targets\u001b[0m\u001b[0;34m(\u001b[0m\u001b[0mexample\u001b[0m\u001b[0;34m,\u001b[0m \u001b[0manchors\u001b[0m\u001b[0;34m)\u001b[0m\u001b[0;34m\u001b[0m\u001b[0;34m\u001b[0m\u001b[0m\n\u001b[0m\u001b[1;32m     29\u001b[0m     \u001b[0moptimizer\u001b[0m\u001b[0;34m.\u001b[0m\u001b[0mzero_grad\u001b[0m\u001b[0;34m(\u001b[0m\u001b[0;34m)\u001b[0m\u001b[0;34m\u001b[0m\u001b[0;34m\u001b[0m\u001b[0m\n\u001b[1;32m     30\u001b[0m     \u001b[0mnet_output\u001b[0m \u001b[0;34m=\u001b[0m \u001b[0mnet\u001b[0m\u001b[0;34m.\u001b[0m\u001b[0mforward\u001b[0m\u001b[0;34m(\u001b[0m\u001b[0mexample\u001b[0m\u001b[0;34m,\u001b[0m \u001b[0manchors\u001b[0m\u001b[0;34m)\u001b[0m\u001b[0;34m\u001b[0m\u001b[0;34m\u001b[0m\u001b[0m\n",
            "\u001b[0;32m<ipython-input-52-3481060e3b75>\u001b[0m in \u001b[0;36mget_targets\u001b[0;34m(self, canvas, anchors, iou_threshold, nb_of_classes)\u001b[0m\n\u001b[1;32m     29\u001b[0m     ) -> DigitDetectionModelTarget:\n\u001b[1;32m     30\u001b[0m         \u001b[0mgt_boxes\u001b[0m \u001b[0;34m=\u001b[0m \u001b[0mcanvas\u001b[0m\u001b[0;34m.\u001b[0m\u001b[0mboxes\u001b[0m\u001b[0;34m\u001b[0m\u001b[0;34m\u001b[0m\u001b[0m\n\u001b[0;32m---> 31\u001b[0;31m         \u001b[0mdigit_classification_target\u001b[0m\u001b[0;34m,\u001b[0m \u001b[0mrotation_classification_target\u001b[0m\u001b[0;34m,\u001b[0m \u001b[0mbox_regression_target\u001b[0m\u001b[0;34m,\u001b[0m \u001b[0mmatched_anchors\u001b[0m \u001b[0;34m=\u001b[0m \u001b[0mself\u001b[0m\u001b[0;34m.\u001b[0m\u001b[0mmatch_anchors\u001b[0m\u001b[0;34m(\u001b[0m\u001b[0manchors\u001b[0m\u001b[0;34m,\u001b[0m \u001b[0mgt_boxes\u001b[0m\u001b[0;34m,\u001b[0m \u001b[0miou_threshold\u001b[0m\u001b[0;34m,\u001b[0m \u001b[0mnb_of_classes\u001b[0m\u001b[0;34m)\u001b[0m\u001b[0;34m\u001b[0m\u001b[0;34m\u001b[0m\u001b[0m\n\u001b[0m\u001b[1;32m     32\u001b[0m         \u001b[0;32mreturn\u001b[0m \u001b[0mDigitDetectionModelTarget\u001b[0m\u001b[0;34m(\u001b[0m\u001b[0mdigit_classification_target\u001b[0m\u001b[0;34m,\u001b[0m \u001b[0mrotation_classification_target\u001b[0m\u001b[0;34m,\u001b[0m \u001b[0mbox_regression_target\u001b[0m\u001b[0;34m,\u001b[0m \u001b[0mmatched_anchors\u001b[0m\u001b[0;34m)\u001b[0m\u001b[0;34m\u001b[0m\u001b[0;34m\u001b[0m\u001b[0m\n\u001b[1;32m     33\u001b[0m \u001b[0;34m\u001b[0m\u001b[0m\n",
            "\u001b[0;32m<ipython-input-52-3481060e3b75>\u001b[0m in \u001b[0;36mmatch_anchors\u001b[0;34m(self, anchors, gt_boxes, iou_threshold, nb_of_classes)\u001b[0m\n\u001b[1;32m     51\u001b[0m             \u001b[0mbest_box\u001b[0m \u001b[0;34m=\u001b[0m \u001b[0;32mNone\u001b[0m\u001b[0;34m\u001b[0m\u001b[0;34m\u001b[0m\u001b[0m\n\u001b[1;32m     52\u001b[0m             \u001b[0;32mfor\u001b[0m \u001b[0mi\u001b[0m\u001b[0;34m,\u001b[0m \u001b[0manchor\u001b[0m \u001b[0;32min\u001b[0m \u001b[0menumerate\u001b[0m\u001b[0;34m(\u001b[0m\u001b[0manchors\u001b[0m\u001b[0;34m)\u001b[0m\u001b[0;34m:\u001b[0m\u001b[0;34m\u001b[0m\u001b[0;34m\u001b[0m\u001b[0m\n\u001b[0;32m---> 53\u001b[0;31m                 \u001b[0miou\u001b[0m \u001b[0;34m=\u001b[0m \u001b[0mgt_box\u001b[0m\u001b[0;34m.\u001b[0m\u001b[0miou_with\u001b[0m\u001b[0;34m(\u001b[0m\u001b[0manchor\u001b[0m\u001b[0;34m)\u001b[0m\u001b[0;34m\u001b[0m\u001b[0;34m\u001b[0m\u001b[0m\n\u001b[0m\u001b[1;32m     54\u001b[0m                 \u001b[0;32mif\u001b[0m \u001b[0miou\u001b[0m \u001b[0;34m>\u001b[0m \u001b[0mthreshold\u001b[0m\u001b[0;34m:\u001b[0m\u001b[0;34m\u001b[0m\u001b[0;34m\u001b[0m\u001b[0m\n\u001b[1;32m     55\u001b[0m                     \u001b[0mthreshold\u001b[0m \u001b[0;34m=\u001b[0m \u001b[0miou\u001b[0m\u001b[0;34m\u001b[0m\u001b[0;34m\u001b[0m\u001b[0m\n",
            "\u001b[0;32m<ipython-input-28-b796c3a2fc8b>\u001b[0m in \u001b[0;36miou_with\u001b[0;34m(self, other_box)\u001b[0m\n\u001b[1;32m     69\u001b[0m             \u001b[0mx_max\u001b[0m\u001b[0;34m=\u001b[0m\u001b[0mmin\u001b[0m\u001b[0;34m(\u001b[0m\u001b[0mself\u001b[0m\u001b[0;34m.\u001b[0m\u001b[0mx_max\u001b[0m\u001b[0;34m,\u001b[0m \u001b[0mother_box\u001b[0m\u001b[0;34m.\u001b[0m\u001b[0mx_max\u001b[0m\u001b[0;34m)\u001b[0m\u001b[0;34m,\u001b[0m\u001b[0;34m\u001b[0m\u001b[0;34m\u001b[0m\u001b[0m\n\u001b[1;32m     70\u001b[0m             \u001b[0my_min\u001b[0m\u001b[0;34m=\u001b[0m\u001b[0mmax\u001b[0m\u001b[0;34m(\u001b[0m\u001b[0mself\u001b[0m\u001b[0;34m.\u001b[0m\u001b[0my_min\u001b[0m\u001b[0;34m,\u001b[0m \u001b[0mother_box\u001b[0m\u001b[0;34m.\u001b[0m\u001b[0my_min\u001b[0m\u001b[0;34m)\u001b[0m\u001b[0;34m,\u001b[0m\u001b[0;34m\u001b[0m\u001b[0;34m\u001b[0m\u001b[0m\n\u001b[0;32m---> 71\u001b[0;31m             \u001b[0my_max\u001b[0m\u001b[0;34m=\u001b[0m\u001b[0mmin\u001b[0m\u001b[0;34m(\u001b[0m\u001b[0mself\u001b[0m\u001b[0;34m.\u001b[0m\u001b[0my_max\u001b[0m\u001b[0;34m,\u001b[0m \u001b[0mother_box\u001b[0m\u001b[0;34m.\u001b[0m\u001b[0my_max\u001b[0m\u001b[0;34m)\u001b[0m\u001b[0;34m,\u001b[0m\u001b[0;34m\u001b[0m\u001b[0;34m\u001b[0m\u001b[0m\n\u001b[0m\u001b[1;32m     72\u001b[0m         ) \n\u001b[1;32m     73\u001b[0m         \u001b[0;32mreturn\u001b[0m \u001b[0maux_box\u001b[0m\u001b[0;34m.\u001b[0m\u001b[0marea\u001b[0m \u001b[0;34m/\u001b[0m \u001b[0;34m(\u001b[0m\u001b[0mself\u001b[0m\u001b[0;34m.\u001b[0m\u001b[0marea\u001b[0m \u001b[0;34m+\u001b[0m \u001b[0mother_box\u001b[0m\u001b[0;34m.\u001b[0m\u001b[0marea\u001b[0m \u001b[0;34m-\u001b[0m \u001b[0maux_box\u001b[0m\u001b[0;34m.\u001b[0m\u001b[0marea\u001b[0m\u001b[0;34m)\u001b[0m\u001b[0;34m\u001b[0m\u001b[0;34m\u001b[0m\u001b[0m\n",
            "\u001b[0;32m<ipython-input-28-b796c3a2fc8b>\u001b[0m in \u001b[0;36m__init__\u001b[0;34m(self, x_min, y_min, x_max, y_max, class_nb, rotated)\u001b[0m\n\u001b[1;32m     23\u001b[0m     ):\n\u001b[1;32m     24\u001b[0m         \u001b[0mself\u001b[0m\u001b[0;34m.\u001b[0m\u001b[0mx_min\u001b[0m \u001b[0;34m=\u001b[0m \u001b[0mx_min\u001b[0m\u001b[0;34m\u001b[0m\u001b[0;34m\u001b[0m\u001b[0m\n\u001b[0;32m---> 25\u001b[0;31m         \u001b[0mself\u001b[0m\u001b[0;34m.\u001b[0m\u001b[0mx_max\u001b[0m \u001b[0;34m=\u001b[0m \u001b[0mx_max\u001b[0m\u001b[0;34m\u001b[0m\u001b[0;34m\u001b[0m\u001b[0m\n\u001b[0m\u001b[1;32m     26\u001b[0m         \u001b[0mself\u001b[0m\u001b[0;34m.\u001b[0m\u001b[0my_min\u001b[0m \u001b[0;34m=\u001b[0m \u001b[0my_min\u001b[0m\u001b[0;34m\u001b[0m\u001b[0;34m\u001b[0m\u001b[0m\n\u001b[1;32m     27\u001b[0m         \u001b[0mself\u001b[0m\u001b[0;34m.\u001b[0m\u001b[0my_max\u001b[0m \u001b[0;34m=\u001b[0m \u001b[0my_max\u001b[0m\u001b[0;34m\u001b[0m\u001b[0;34m\u001b[0m\u001b[0m\n",
            "\u001b[0;31mKeyboardInterrupt\u001b[0m: "
          ]
        }
      ],
      "source": [
        "from torch import optim\n",
        "\n",
        "# parameters to tune: alpha? & gamma?\n",
        "lr = 0.0005\n",
        "\n",
        "# set anchors\n",
        "centers = set_centers()\n",
        "anchors = set_anchors(centers, ANCHOR_SIZES)\n",
        "print(\"Number of anchors {}\".format(len(anchors)))\n",
        "\n",
        "# initialize net\n",
        "net = DigitDetectionModel(anchors)\n",
        "\n",
        "# choose criterion, optimizer\n",
        "criterion = RetinaLoss(num_classes=5)\n",
        "optimizer = optim.SGD(net.parameters(),lr=lr, momentum=0.9, weight_decay=1e-3)\n",
        "\n",
        "# target decoder\n",
        "target_decoder = TargetDecoder()\n",
        "digit_accuracy = DigitAccuracy()\n",
        "\n",
        "\n",
        "examples_num=50000\n",
        "# def train(examples_num=100000):\n",
        "for example_id in range(1, examples_num + 1):\n",
        "    net.train()\n",
        "    example = get_random_canvas()\n",
        "    target = target_decoder.get_targets(example, anchors)\n",
        "    optimizer.zero_grad()\n",
        "    net_output = net.forward(example, anchors)\n",
        "    loss = criterion.compute_loss(net_output, target)\n",
        "    if example_id%100 == 0:\n",
        "        print(f\"Example number: {example_id+1} , Loss: {loss}\")\n",
        "    loss.backward(retain_graph=True)\n",
        "    optimizer.step()\n",
        "    if example_id%100 == 0:\n",
        "        preds = target_decoder.get_predictions(net_output)\n",
        "        if len(preds) == 0:\n",
        "            print(\"No box selected\")\n",
        "        else:\n",
        "            dacc = digit_accuracy.compute_metric(preds, example)\n",
        "            print('DIGIT ACCURACY:', dacc)\n",
        "    if example_id%1000 == 0:\n",
        "        acc, dacc = test(net)\n",
        "        print(\"BOX ACCURACY:\", acc)\n",
        "\n"
      ]
    },
    {
      "cell_type": "code",
      "source": [
        "def test(net, TEST_CANVAS=TEST_CANVAS):\n",
        "    target_decoder = TargetDecoder()\n",
        "    digit_accuracy = DigitAccuracy() # tego nie było\n",
        "    DACCS = []\n",
        "    for example in TEST_CANVAS:    \n",
        "        target = target_decoder.get_targets(example, anchors)\n",
        "        net_output = net.forward(example, anchors)\n",
        "        preds = target_decoder.get_predictions(net_output)\n",
        "        dacc = digit_accuracy.compute_metric(preds, example)\n",
        "        DACCS.append(dacc)\n",
        "    acc = np.array(DACCS)\n",
        "    accurate = sum(acc)\n",
        "    ACC = accurate/len(acc)\n",
        "    return ACC, DACCS"
      ],
      "metadata": {
        "id": "NMqeq0NcLbxD"
      },
      "execution_count": null,
      "outputs": []
    },
    {
      "cell_type": "markdown",
      "source": [
        "### EXAMPLES FROM DIFFERENT STAGES OF LEARNING"
      ],
      "metadata": {
        "id": "LX6iWB2rZxob"
      }
    },
    {
      "cell_type": "code",
      "source": [
        "example.plot(outs) # after 100 step - concentrates on area where digits are, Model fist learns where the digits are"
      ],
      "metadata": {
        "colab": {
          "base_uri": "https://localhost:8080/",
          "height": 267
        },
        "id": "QEuPDC1etJhq",
        "outputId": "4364cf58-82fc-41ab-9350-6c814cc741f4"
      },
      "execution_count": null,
      "outputs": [
        {
          "output_type": "display_data",
          "data": {
            "image/png": "[encoded data removed]",
            "text/plain": [
              "<Figure size 432x288 with 1 Axes>"
            ]
          },
          "metadata": {
            "needs_background": "light"
          }
        }
      ]
    },
    {
      "cell_type": "markdown",
      "source": [
        "### CANVAS TEST"
      ],
      "metadata": {
        "id": "r-TVsMsYaNho"
      }
    },
    {
      "cell_type": "markdown",
      "source": [
        "### BOX ACCURACY"
      ],
      "metadata": {
        "id": "FifvskeKcocX"
      }
    },
    {
      "cell_type": "code",
      "source": [
        "# TEST BOX ACCURACY AFTER 10.000 samples training\n",
        "acc, dacc = test(net) # after 10000th iteration"
      ],
      "metadata": {
        "id": "FgeYn9HrSk0b"
      },
      "execution_count": null,
      "outputs": []
    },
    {
      "cell_type": "code",
      "source": [
        "print(\"FINAL Digit Accuracy\", acc)"
      ],
      "metadata": {
        "colab": {
          "base_uri": "https://localhost:8080/"
        },
        "id": "KIeWhAT5Uukd",
        "outputId": "618632a7-f90e-4ce9-84a5-82836ef52e7e"
      },
      "execution_count": null,
      "outputs": [
        {
          "output_type": "stream",
          "name": "stdout",
          "text": [
            "FINAL Digit Accuracy 0.359375\n"
          ]
        }
      ]
    },
    {
      "cell_type": "markdown",
      "source": [
        "### Misclassified example"
      ],
      "metadata": {
        "id": "ICYPvabhKqAB"
      }
    },
    {
      "cell_type": "code",
      "source": [
        "centers = set_centers()\n",
        "anchors = set_anchors(centers, ANCHOR_SIZES)\n",
        "target_decoder = TargetDecoder()\n",
        "example = TEST_CANVAS[0]\n",
        "target = target_decoder.get_targets(example, anchors)\n",
        "net_output = net.forward(example, anchors)\n",
        "preds = target_decoder.get_predictions(net_output)\n",
        "example.plot(preds)"
      ],
      "metadata": {
        "id": "aU2ZupTUaMVc",
        "colab": {
          "base_uri": "https://localhost:8080/",
          "height": 267
        },
        "outputId": "e103f83e-46f0-4134-be72-b84aa4adf4c2"
      },
      "execution_count": null,
      "outputs": [
        {
          "output_type": "display_data",
          "data": {
            "image/png": "[encoded data removed]",
            "text/plain": [
              "<Figure size 432x288 with 1 Axes>"
            ]
          },
          "metadata": {
            "needs_background": "light"
          }
        }
      ]
    },
    {
      "cell_type": "code",
      "source": [
        "centers = set_centers()\n",
        "anchors = set_anchors(centers, ANCHOR_SIZES)\n",
        "target_decoder = TargetDecoder()\n",
        "example = TEST_CANVAS[3]\n",
        "target = target_decoder.get_targets(example, anchors)\n",
        "net_output = net.forward(example, anchors)\n",
        "preds = target_decoder.get_predictions(net_output)\n",
        "example.plot(preds)\n"
      ],
      "metadata": {
        "colab": {
          "base_uri": "https://localhost:8080/",
          "height": 267
        },
        "id": "njjge8sfKLtd",
        "outputId": "580fab29-357a-4d1a-efc5-b66ba456dafc"
      },
      "execution_count": null,
      "outputs": [
        {
          "output_type": "display_data",
          "data": {
            "image/png": "[encoded data removed]",
            "text/plain": [
              "<Figure size 432x288 with 1 Axes>"
            ]
          },
          "metadata": {
            "needs_background": "light"
          }
        }
      ]
    },
    {
      "cell_type": "code",
      "source": [
        "centers = set_centers()\n",
        "anchors = set_anchors(centers, ANCHOR_SIZES)\n",
        "target_decoder = TargetDecoder()\n",
        "example = TEST_CANVAS[3]\n",
        "target = target_decoder.get_targets(example, anchors)\n",
        "net_output = net.forward(example, anchors)\n",
        "preds = target_decoder.get_predictions(net_output)\n",
        "example.plot(preds)"
      ],
      "metadata": {
        "colab": {
          "base_uri": "https://localhost:8080/"
        },
        "id": "HlJm79ioIQbZ",
        "outputId": "53b626b6-bbc9-4d3e-9ca4-58cea26a54c1"
      },
      "execution_count": null,
      "outputs": [
        {
          "output_type": "execute_result",
          "data": {
            "text/plain": [
              "0"
            ]
          },
          "metadata": {},
          "execution_count": 66
        }
      ]
    },
    {
      "cell_type": "markdown",
      "source": [
        "### well classified examples"
      ],
      "metadata": {
        "id": "-1S9yBUtK9Ug"
      }
    },
    {
      "cell_type": "code",
      "source": [
        "centers = set_centers()\n",
        "anchors = set_anchors(centers, ANCHOR_SIZES)\n",
        "target_decoder = TargetDecoder()\n",
        "example = TEST_CANVAS[9]\n",
        "target = target_decoder.get_targets(example, anchors)\n",
        "net_output = net.forward(example, anchors)\n",
        "preds = target_decoder.get_predictions(net_output)\n",
        "example.plot(preds)"
      ],
      "metadata": {
        "colab": {
          "base_uri": "https://localhost:8080/",
          "height": 267
        },
        "id": "vo16dXTVKPOr",
        "outputId": "485bd904-1485-4800-9368-fe3e8fa09342"
      },
      "execution_count": null,
      "outputs": [
        {
          "output_type": "display_data",
          "data": {
            "image/png": "[encoded data removed]",
            "text/plain": [
              "<Figure size 432x288 with 1 Axes>"
            ]
          },
          "metadata": {
            "needs_background": "light"
          }
        }
      ]
    },
    {
      "cell_type": "code",
      "source": [
        "centers = set_centers()\n",
        "anchors = set_anchors(centers, ANCHOR_SIZES)\n",
        "target_decoder = TargetDecoder()\n",
        "example = TEST_CANVAS[10]\n",
        "target = target_decoder.get_targets(example, anchors)\n",
        "net_output = net.forward(example, anchors)\n",
        "preds = target_decoder.get_predictions(net_output)\n",
        "example.plot(preds)"
      ],
      "metadata": {
        "id": "RH4AWTKBKPLe",
        "colab": {
          "base_uri": "https://localhost:8080/",
          "height": 267
        },
        "outputId": "33beaf0a-528b-4439-b112-9b52b0784a72"
      },
      "execution_count": null,
      "outputs": [
        {
          "output_type": "display_data",
          "data": {
            "image/png": "[encoded data removed]",
            "text/plain": [
              "<Figure size 432x288 with 1 Axes>"
            ]
          },
          "metadata": {
            "needs_background": "light"
          }
        }
      ]
    },
    {
      "cell_type": "code",
      "source": [
        "centers = set_centers()\n",
        "anchors = set_anchors(centers, ANCHOR_SIZES)\n",
        "target_decoder = TargetDecoder()\n",
        "example = TEST_CANVAS[91]\n",
        "target = target_decoder.get_targets(example, anchors)\n",
        "net_output = net.forward(example, anchors)\n",
        "preds = target_decoder.get_predictions(net_output)\n",
        "example.plot(preds)"
      ],
      "metadata": {
        "colab": {
          "base_uri": "https://localhost:8080/",
          "height": 267
        },
        "id": "hjPNaKq_NSzX",
        "outputId": "dff8de33-606d-4b04-dd2a-77a13dc14c18"
      },
      "execution_count": null,
      "outputs": [
        {
          "output_type": "display_data",
          "data": {
            "image/png": "[encoded data removed]",
            "text/plain": [
              "<Figure size 432x288 with 1 Axes>"
            ]
          },
          "metadata": {
            "needs_background": "light"
          }
        }
      ]
    },
    {
      "cell_type": "markdown",
      "source": [
        "Summing up we set 12 anchors in each center to train DigitDetectonModel. It went much easier with training quite good located boxes, but it took much longer to train correct digit classes detection.\n",
        "First model trained only on 9 anchors/center was struggling to train boxes. \n",
        "Also it is hard to adjust good threshold for the accepted boxes in the predicted_boxes. It is hard to boost the DigitAccuracy since some classes are also irrecognizable when they are close to each other. The model performs worse when the digits are located close to each other as it was shawn above"
      ],
      "metadata": {
        "id": "PFMykTij8cw8"
      }
    }
  ],
  "metadata": {
    "colab": {
      "collapsed_sections": [
        "Zgs-MCkrTeBE",
        "Ri3Jh7GzjZ4W",
        "R7AjsqR7CEyA",
        "LX6iWB2rZxob"
      ],
      "name": "Aleksandra Możwiłło GSN 2021/22 Assignment 2: RetinaMNIST with rotations",
      "provenance": []
    },
    "kernelspec": {
      "display_name": "Python 3",
      "name": "python3"
    },
    "language_info": {
      "name": "python"
    }
  },
  "nbformat": 4,
  "nbformat_minor": 0
}